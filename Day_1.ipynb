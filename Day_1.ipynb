{
  "nbformat": 4,
  "nbformat_minor": 0,
  "metadata": {
    "colab": {
      "provenance": [],
      "gpuType": "T4",
      "include_colab_link": true
    },
    "kernelspec": {
      "name": "python3",
      "display_name": "Python 3"
    },
    "language_info": {
      "name": "python"
    },
    "accelerator": "GPU"
  },
  "cells": [
    {
      "cell_type": "markdown",
      "metadata": {
        "id": "view-in-github",
        "colab_type": "text"
      },
      "source": [
        "<a href=\"https://colab.research.google.com/github/huma1995/scRNAseqtutorial/blob/main/Day_1.ipynb\" target=\"_parent\"><img src=\"https://colab.research.google.com/assets/colab-badge.svg\" alt=\"Open In Colab\"/></a>"
      ]
    },
    {
      "cell_type": "markdown",
      "source": [
        "## **Data Science - Single Cell RNA sequencing analysis worksheet**"
      ],
      "metadata": {
        "id": "yBQ3WP7VJfJu"
      }
    },
    {
      "cell_type": "markdown",
      "source": [
        "**Initial set up steps**\n",
        "\n",
        "**1. Change Runtime type to T4 GPU**\n",
        "\n",
        "**2. Mount your google drive to this google Co-lab session**"
      ],
      "metadata": {
        "id": "pvVc6rUVJTAN"
      }
    },
    {
      "cell_type": "code",
      "source": [
        "from google.colab import drive\n",
        "drive.mount('/content/drive')"
      ],
      "metadata": {
        "colab": {
          "base_uri": "https://localhost:8080/"
        },
        "id": "zvu-lvthSjcN",
        "outputId": "36424fef-5ee2-4a1f-d71e-73ee8b3db2ed"
      },
      "execution_count": null,
      "outputs": [
        {
          "output_type": "stream",
          "name": "stdout",
          "text": [
            "Drive already mounted at /content/drive; to attempt to forcibly remount, call drive.mount(\"/content/drive\", force_remount=True).\n"
          ]
        }
      ]
    },
    {
      "cell_type": "markdown",
      "source": [
        "**3. Place the downloaded data 'Hufallopiantube.h5ad' into your google drive**\n",
        "* You can drag and drop this from your downloads file, into the Files file icon on the left, and navigating to 'drive/MyDrive'\n"
      ],
      "metadata": {
        "id": "MGN6wNnlI7ub"
      }
    },
    {
      "cell_type": "markdown",
      "source": [
        "**4. Install additional required packages**"
      ],
      "metadata": {
        "id": "lQMErG1BKsG8"
      }
    },
    {
      "cell_type": "code",
      "source": [
        "!pip install 'scanpy[leiden]'\n"
      ],
      "metadata": {
        "colab": {
          "base_uri": "https://localhost:8080/"
        },
        "collapsed": true,
        "id": "HjHo9qWHWGCA",
        "outputId": "f4e397b5-bcff-49b2-ed51-a558bfcf3e0b"
      },
      "execution_count": null,
      "outputs": [
        {
          "output_type": "stream",
          "name": "stdout",
          "text": [
            "Collecting scanpy[leiden]\n",
            "  Downloading scanpy-1.10.4-py3-none-any.whl.metadata (9.3 kB)\n",
            "Collecting anndata>=0.8 (from scanpy[leiden])\n",
            "  Downloading anndata-0.11.1-py3-none-any.whl.metadata (8.2 kB)\n",
            "Requirement already satisfied: h5py>=3.6 in /usr/local/lib/python3.10/dist-packages (from scanpy[leiden]) (3.12.1)\n",
            "Requirement already satisfied: joblib in /usr/local/lib/python3.10/dist-packages (from scanpy[leiden]) (1.4.2)\n",
            "Collecting legacy-api-wrap>=1.4 (from scanpy[leiden])\n",
            "  Downloading legacy_api_wrap-1.4-py3-none-any.whl.metadata (1.8 kB)\n",
            "Requirement already satisfied: matplotlib>=3.6 in /usr/local/lib/python3.10/dist-packages (from scanpy[leiden]) (3.8.0)\n",
            "Requirement already satisfied: natsort in /usr/local/lib/python3.10/dist-packages (from scanpy[leiden]) (8.4.0)\n",
            "Requirement already satisfied: networkx>=2.7 in /usr/local/lib/python3.10/dist-packages (from scanpy[leiden]) (3.4.2)\n",
            "Requirement already satisfied: numba>=0.56 in /usr/local/lib/python3.10/dist-packages (from scanpy[leiden]) (0.60.0)\n",
            "Requirement already satisfied: numpy>=1.23 in /usr/local/lib/python3.10/dist-packages (from scanpy[leiden]) (1.26.4)\n",
            "Requirement already satisfied: packaging>=21.3 in /usr/local/lib/python3.10/dist-packages (from scanpy[leiden]) (24.2)\n",
            "Requirement already satisfied: pandas>=1.5 in /usr/local/lib/python3.10/dist-packages (from scanpy[leiden]) (2.2.2)\n",
            "Requirement already satisfied: patsy!=1.0.0 in /usr/local/lib/python3.10/dist-packages (from scanpy[leiden]) (1.0.1)\n",
            "Collecting pynndescent>=0.5 (from scanpy[leiden])\n",
            "  Downloading pynndescent-0.5.13-py3-none-any.whl.metadata (6.8 kB)\n",
            "Requirement already satisfied: scikit-learn>=1.1 in /usr/local/lib/python3.10/dist-packages (from scanpy[leiden]) (1.5.2)\n",
            "Requirement already satisfied: scipy>=1.8 in /usr/local/lib/python3.10/dist-packages (from scanpy[leiden]) (1.13.1)\n",
            "Requirement already satisfied: seaborn>=0.13 in /usr/local/lib/python3.10/dist-packages (from scanpy[leiden]) (0.13.2)\n",
            "Collecting session-info (from scanpy[leiden])\n",
            "  Downloading session_info-1.0.0.tar.gz (24 kB)\n",
            "  Preparing metadata (setup.py) ... \u001b[?25l\u001b[?25hdone\n",
            "Requirement already satisfied: statsmodels>=0.13 in /usr/local/lib/python3.10/dist-packages (from scanpy[leiden]) (0.14.4)\n",
            "Requirement already satisfied: tqdm in /usr/local/lib/python3.10/dist-packages (from scanpy[leiden]) (4.66.6)\n",
            "Collecting umap-learn!=0.5.0,>=0.5 (from scanpy[leiden])\n",
            "  Downloading umap_learn-0.5.7-py3-none-any.whl.metadata (21 kB)\n",
            "Collecting igraph>=0.10 (from scanpy[leiden])\n",
            "  Downloading igraph-0.11.8-cp39-abi3-manylinux_2_17_x86_64.manylinux2014_x86_64.whl.metadata (3.8 kB)\n",
            "Collecting leidenalg>=0.9.0 (from scanpy[leiden])\n",
            "  Downloading leidenalg-0.10.2-cp38-abi3-manylinux_2_17_x86_64.manylinux2014_x86_64.whl.metadata (10 kB)\n",
            "Collecting array-api-compat!=1.5,>1.4 (from anndata>=0.8->scanpy[leiden])\n",
            "  Downloading array_api_compat-1.9.1-py3-none-any.whl.metadata (1.6 kB)\n",
            "Requirement already satisfied: exceptiongroup in /usr/local/lib/python3.10/dist-packages (from anndata>=0.8->scanpy[leiden]) (1.2.2)\n",
            "Collecting texttable>=1.6.2 (from igraph>=0.10->scanpy[leiden])\n",
            "  Downloading texttable-1.7.0-py2.py3-none-any.whl.metadata (9.8 kB)\n",
            "Requirement already satisfied: contourpy>=1.0.1 in /usr/local/lib/python3.10/dist-packages (from matplotlib>=3.6->scanpy[leiden]) (1.3.1)\n",
            "Requirement already satisfied: cycler>=0.10 in /usr/local/lib/python3.10/dist-packages (from matplotlib>=3.6->scanpy[leiden]) (0.12.1)\n",
            "Requirement already satisfied: fonttools>=4.22.0 in /usr/local/lib/python3.10/dist-packages (from matplotlib>=3.6->scanpy[leiden]) (4.54.1)\n",
            "Requirement already satisfied: kiwisolver>=1.0.1 in /usr/local/lib/python3.10/dist-packages (from matplotlib>=3.6->scanpy[leiden]) (1.4.7)\n",
            "Requirement already satisfied: pillow>=6.2.0 in /usr/local/lib/python3.10/dist-packages (from matplotlib>=3.6->scanpy[leiden]) (11.0.0)\n",
            "Requirement already satisfied: pyparsing>=2.3.1 in /usr/local/lib/python3.10/dist-packages (from matplotlib>=3.6->scanpy[leiden]) (3.2.0)\n",
            "Requirement already satisfied: python-dateutil>=2.7 in /usr/local/lib/python3.10/dist-packages (from matplotlib>=3.6->scanpy[leiden]) (2.8.2)\n",
            "Requirement already satisfied: llvmlite<0.44,>=0.43.0dev0 in /usr/local/lib/python3.10/dist-packages (from numba>=0.56->scanpy[leiden]) (0.43.0)\n",
            "Requirement already satisfied: pytz>=2020.1 in /usr/local/lib/python3.10/dist-packages (from pandas>=1.5->scanpy[leiden]) (2024.2)\n",
            "Requirement already satisfied: tzdata>=2022.7 in /usr/local/lib/python3.10/dist-packages (from pandas>=1.5->scanpy[leiden]) (2024.2)\n",
            "Requirement already satisfied: threadpoolctl>=3.1.0 in /usr/local/lib/python3.10/dist-packages (from scikit-learn>=1.1->scanpy[leiden]) (3.5.0)\n",
            "Collecting stdlib_list (from session-info->scanpy[leiden])\n",
            "  Downloading stdlib_list-0.11.0-py3-none-any.whl.metadata (3.3 kB)\n",
            "Requirement already satisfied: six>=1.5 in /usr/local/lib/python3.10/dist-packages (from python-dateutil>=2.7->matplotlib>=3.6->scanpy[leiden]) (1.16.0)\n",
            "Downloading anndata-0.11.1-py3-none-any.whl (141 kB)\n",
            "\u001b[2K   \u001b[90m━━━━━━━━━━━━━━━━━━━━━━━━━━━━━━━━━━━━━━━━\u001b[0m \u001b[32m141.9/141.9 kB\u001b[0m \u001b[31m14.3 MB/s\u001b[0m eta \u001b[36m0:00:00\u001b[0m\n",
            "\u001b[?25hDownloading igraph-0.11.8-cp39-abi3-manylinux_2_17_x86_64.manylinux2014_x86_64.whl (3.1 MB)\n",
            "\u001b[2K   \u001b[90m━━━━━━━━━━━━━━━━━━━━━━━━━━━━━━━━━━━━━━━━\u001b[0m \u001b[32m3.1/3.1 MB\u001b[0m \u001b[31m87.4 MB/s\u001b[0m eta \u001b[36m0:00:00\u001b[0m\n",
            "\u001b[?25hDownloading legacy_api_wrap-1.4-py3-none-any.whl (15 kB)\n",
            "Downloading leidenalg-0.10.2-cp38-abi3-manylinux_2_17_x86_64.manylinux2014_x86_64.whl (2.0 MB)\n",
            "\u001b[2K   \u001b[90m━━━━━━━━━━━━━━━━━━━━━━━━━━━━━━━━━━━━━━━━\u001b[0m \u001b[32m2.0/2.0 MB\u001b[0m \u001b[31m82.5 MB/s\u001b[0m eta \u001b[36m0:00:00\u001b[0m\n",
            "\u001b[?25hDownloading pynndescent-0.5.13-py3-none-any.whl (56 kB)\n",
            "\u001b[2K   \u001b[90m━━━━━━━━━━━━━━━━━━━━━━━━━━━━━━━━━━━━━━━━\u001b[0m \u001b[32m56.9/56.9 kB\u001b[0m \u001b[31m5.5 MB/s\u001b[0m eta \u001b[36m0:00:00\u001b[0m\n",
            "\u001b[?25hDownloading umap_learn-0.5.7-py3-none-any.whl (88 kB)\n",
            "\u001b[2K   \u001b[90m━━━━━━━━━━━━━━━━━━━━━━━━━━━━━━━━━━━━━━━━\u001b[0m \u001b[32m88.8/88.8 kB\u001b[0m \u001b[31m10.0 MB/s\u001b[0m eta \u001b[36m0:00:00\u001b[0m\n",
            "\u001b[?25hDownloading scanpy-1.10.4-py3-none-any.whl (2.1 MB)\n",
            "\u001b[2K   \u001b[90m━━━━━━━━━━━━━━━━━━━━━━━━━━━━━━━━━━━━━━━━\u001b[0m \u001b[32m2.1/2.1 MB\u001b[0m \u001b[31m82.8 MB/s\u001b[0m eta \u001b[36m0:00:00\u001b[0m\n",
            "\u001b[?25hDownloading array_api_compat-1.9.1-py3-none-any.whl (50 kB)\n",
            "\u001b[2K   \u001b[90m━━━━━━━━━━━━━━━━━━━━━━━━━━━━━━━━━━━━━━━━\u001b[0m \u001b[32m50.1/50.1 kB\u001b[0m \u001b[31m5.0 MB/s\u001b[0m eta \u001b[36m0:00:00\u001b[0m\n",
            "\u001b[?25hDownloading texttable-1.7.0-py2.py3-none-any.whl (10 kB)\n",
            "Downloading stdlib_list-0.11.0-py3-none-any.whl (83 kB)\n",
            "\u001b[2K   \u001b[90m━━━━━━━━━━━━━━━━━━━━━━━━━━━━━━━━━━━━━━━━\u001b[0m \u001b[32m83.6/83.6 kB\u001b[0m \u001b[31m8.3 MB/s\u001b[0m eta \u001b[36m0:00:00\u001b[0m\n",
            "\u001b[?25hBuilding wheels for collected packages: session-info\n",
            "  Building wheel for session-info (setup.py) ... \u001b[?25l\u001b[?25hdone\n",
            "  Created wheel for session-info: filename=session_info-1.0.0-py3-none-any.whl size=8023 sha256=079d20521c838db0af711db47c0f2234a4c76c912ae917ff4cb4ce0c2610a88c\n",
            "  Stored in directory: /root/.cache/pip/wheels/6a/aa/b9/eb5d4031476ec10802795b97ccf937b9bd998d68a9b268765a\n",
            "Successfully built session-info\n",
            "Installing collected packages: texttable, stdlib_list, legacy-api-wrap, igraph, array-api-compat, session-info, leidenalg, pynndescent, anndata, umap-learn, scanpy\n",
            "Successfully installed anndata-0.11.1 array-api-compat-1.9.1 igraph-0.11.8 legacy-api-wrap-1.4 leidenalg-0.10.2 pynndescent-0.5.13 scanpy-1.10.4 session-info-1.0.0 stdlib_list-0.11.0 texttable-1.7.0 umap-learn-0.5.7\n"
          ]
        }
      ]
    },
    {
      "cell_type": "markdown",
      "source": [
        "**5. Import required packages**"
      ],
      "metadata": {
        "id": "FPwtcD_DK1NC"
      }
    },
    {
      "cell_type": "code",
      "execution_count": null,
      "metadata": {
        "id": "7k-Kro6sGhin"
      },
      "outputs": [],
      "source": [
        "import scanpy as sc\n",
        "import numpy as np\n",
        "import pandas as pd"
      ]
    },
    {
      "cell_type": "markdown",
      "source": [
        "# **1. AnnData as a data object** ![anndata.svg](data:image/svg+xml;base64,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)\n"
      ],
      "metadata": {
        "id": "QMDIpqvNGoqK"
      }
    },
    {
      "cell_type": "markdown",
      "source": [
        "We will explore a small single cell RNA sequencing dataset of Fallopian Tube cells. The dataset includes benign samples from 5 patients , and high grade serous ovarian carcinoma (HGOC) samples from 5 patients.\n",
        "\n",
        "High-grade serous ovarian cancer (HGOC) is the most common and aggressive type of epithelial ovarian cancer.\n",
        "\n",
        "It is hypothesised to originate from Serous tubal intraepithelial carcinoma (STIC) cells in the fallopian tube.\n"
      ],
      "metadata": {
        "id": "1o9y-wjdPnXY"
      }
    },
    {
      "cell_type": "markdown",
      "source": [
        "**1. Read in data to create an Anndata object**\n"
      ],
      "metadata": {
        "id": "RSjGQ__3G2yz"
      }
    },
    {
      "cell_type": "code",
      "source": [
        "hu = sc.read_h5ad('/content/drive/MyDrive/datascience_course/Hufallopiantube.h5ad')"
      ],
      "metadata": {
        "id": "YRflRIuFImcW"
      },
      "execution_count": null,
      "outputs": []
    },
    {
      "cell_type": "markdown",
      "source": [
        "**2. View the structure of the data**"
      ],
      "metadata": {
        "id": "QCSnmVFPIkX9"
      }
    },
    {
      "cell_type": "code",
      "source": [
        "hu.layers[\"counts\"] = hu.X.copy()"
      ],
      "metadata": {
        "id": "LBqVVx9nIunB"
      },
      "execution_count": null,
      "outputs": []
    },
    {
      "cell_type": "markdown",
      "source": [
        "**3. View the meta data**"
      ],
      "metadata": {
        "id": "suFjcU0_I5tr"
      }
    },
    {
      "cell_type": "code",
      "source": [
        "hu.obs"
      ],
      "metadata": {
        "id": "TfH0UDHgI5eG",
        "colab": {
          "base_uri": "https://localhost:8080/",
          "height": 455
        },
        "outputId": "43930a73-bc05-4a24-c48a-b14bb7434ab4"
      },
      "execution_count": null,
      "outputs": [
        {
          "output_type": "execute_result",
          "data": {
            "text/plain": [
              "              Patient   Author                       Tissue Disease_stage Age\n",
              "CellID                                                                       \n",
              "sc_b1_A08       33572  Hu_2020  Benign fallopian tube cells        Benign  64\n",
              "sc_b1_B06       34350  Hu_2020  Benign fallopian tube cells        Benign  50\n",
              "sc_b1_B08       34350  Hu_2020  Benign fallopian tube cells        Benign  50\n",
              "sc_b1_B11       34350  Hu_2020  Benign fallopian tube cells        Benign  50\n",
              "sc_b1_C15       34350  Hu_2020  Benign fallopian tube cells        Benign  50\n",
              "...               ...      ...                          ...           ...  ..\n",
              "15072R-p1-B17   15072  Hu_2020   HGSOC fallopian tube cells         IIIc1  62\n",
              "15072R-p1-B18   15072  Hu_2020   HGSOC fallopian tube cells         IIIc1  62\n",
              "15072R-p1-C01   15072  Hu_2020   HGSOC fallopian tube cells         IIIc1  62\n",
              "15072R-p1-C02   15072  Hu_2020   HGSOC fallopian tube cells         IIIc1  62\n",
              "15072R-p1-C03   15072  Hu_2020   HGSOC fallopian tube cells         IIIc1  62\n",
              "\n",
              "[4557 rows x 5 columns]"
            ],
            "text/html": [
              "\n",
              "  <div id=\"df-084f3ba2-fc61-4daa-83ff-4abe6986eada\" class=\"colab-df-container\">\n",
              "    <div>\n",
              "<style scoped>\n",
              "    .dataframe tbody tr th:only-of-type {\n",
              "        vertical-align: middle;\n",
              "    }\n",
              "\n",
              "    .dataframe tbody tr th {\n",
              "        vertical-align: top;\n",
              "    }\n",
              "\n",
              "    .dataframe thead th {\n",
              "        text-align: right;\n",
              "    }\n",
              "</style>\n",
              "<table border=\"1\" class=\"dataframe\">\n",
              "  <thead>\n",
              "    <tr style=\"text-align: right;\">\n",
              "      <th></th>\n",
              "      <th>Patient</th>\n",
              "      <th>Author</th>\n",
              "      <th>Tissue</th>\n",
              "      <th>Disease_stage</th>\n",
              "      <th>Age</th>\n",
              "    </tr>\n",
              "    <tr>\n",
              "      <th>CellID</th>\n",
              "      <th></th>\n",
              "      <th></th>\n",
              "      <th></th>\n",
              "      <th></th>\n",
              "      <th></th>\n",
              "    </tr>\n",
              "  </thead>\n",
              "  <tbody>\n",
              "    <tr>\n",
              "      <th>sc_b1_A08</th>\n",
              "      <td>33572</td>\n",
              "      <td>Hu_2020</td>\n",
              "      <td>Benign fallopian tube cells</td>\n",
              "      <td>Benign</td>\n",
              "      <td>64</td>\n",
              "    </tr>\n",
              "    <tr>\n",
              "      <th>sc_b1_B06</th>\n",
              "      <td>34350</td>\n",
              "      <td>Hu_2020</td>\n",
              "      <td>Benign fallopian tube cells</td>\n",
              "      <td>Benign</td>\n",
              "      <td>50</td>\n",
              "    </tr>\n",
              "    <tr>\n",
              "      <th>sc_b1_B08</th>\n",
              "      <td>34350</td>\n",
              "      <td>Hu_2020</td>\n",
              "      <td>Benign fallopian tube cells</td>\n",
              "      <td>Benign</td>\n",
              "      <td>50</td>\n",
              "    </tr>\n",
              "    <tr>\n",
              "      <th>sc_b1_B11</th>\n",
              "      <td>34350</td>\n",
              "      <td>Hu_2020</td>\n",
              "      <td>Benign fallopian tube cells</td>\n",
              "      <td>Benign</td>\n",
              "      <td>50</td>\n",
              "    </tr>\n",
              "    <tr>\n",
              "      <th>sc_b1_C15</th>\n",
              "      <td>34350</td>\n",
              "      <td>Hu_2020</td>\n",
              "      <td>Benign fallopian tube cells</td>\n",
              "      <td>Benign</td>\n",
              "      <td>50</td>\n",
              "    </tr>\n",
              "    <tr>\n",
              "      <th>...</th>\n",
              "      <td>...</td>\n",
              "      <td>...</td>\n",
              "      <td>...</td>\n",
              "      <td>...</td>\n",
              "      <td>...</td>\n",
              "    </tr>\n",
              "    <tr>\n",
              "      <th>15072R-p1-B17</th>\n",
              "      <td>15072</td>\n",
              "      <td>Hu_2020</td>\n",
              "      <td>HGSOC fallopian tube cells</td>\n",
              "      <td>IIIc1</td>\n",
              "      <td>62</td>\n",
              "    </tr>\n",
              "    <tr>\n",
              "      <th>15072R-p1-B18</th>\n",
              "      <td>15072</td>\n",
              "      <td>Hu_2020</td>\n",
              "      <td>HGSOC fallopian tube cells</td>\n",
              "      <td>IIIc1</td>\n",
              "      <td>62</td>\n",
              "    </tr>\n",
              "    <tr>\n",
              "      <th>15072R-p1-C01</th>\n",
              "      <td>15072</td>\n",
              "      <td>Hu_2020</td>\n",
              "      <td>HGSOC fallopian tube cells</td>\n",
              "      <td>IIIc1</td>\n",
              "      <td>62</td>\n",
              "    </tr>\n",
              "    <tr>\n",
              "      <th>15072R-p1-C02</th>\n",
              "      <td>15072</td>\n",
              "      <td>Hu_2020</td>\n",
              "      <td>HGSOC fallopian tube cells</td>\n",
              "      <td>IIIc1</td>\n",
              "      <td>62</td>\n",
              "    </tr>\n",
              "    <tr>\n",
              "      <th>15072R-p1-C03</th>\n",
              "      <td>15072</td>\n",
              "      <td>Hu_2020</td>\n",
              "      <td>HGSOC fallopian tube cells</td>\n",
              "      <td>IIIc1</td>\n",
              "      <td>62</td>\n",
              "    </tr>\n",
              "  </tbody>\n",
              "</table>\n",
              "<p>4557 rows × 5 columns</p>\n",
              "</div>\n",
              "    <div class=\"colab-df-buttons\">\n",
              "\n",
              "  <div class=\"colab-df-container\">\n",
              "    <button class=\"colab-df-convert\" onclick=\"convertToInteractive('df-084f3ba2-fc61-4daa-83ff-4abe6986eada')\"\n",
              "            title=\"Convert this dataframe to an interactive table.\"\n",
              "            style=\"display:none;\">\n",
              "\n",
              "  <svg xmlns=\"http://www.w3.org/2000/svg\" height=\"24px\" viewBox=\"0 -960 960 960\">\n",
              "    <path d=\"M120-120v-720h720v720H120Zm60-500h600v-160H180v160Zm220 220h160v-160H400v160Zm0 220h160v-160H400v160ZM180-400h160v-160H180v160Zm440 0h160v-160H620v160ZM180-180h160v-160H180v160Zm440 0h160v-160H620v160Z\"/>\n",
              "  </svg>\n",
              "    </button>\n",
              "\n",
              "  <style>\n",
              "    .colab-df-container {\n",
              "      display:flex;\n",
              "      gap: 12px;\n",
              "    }\n",
              "\n",
              "    .colab-df-convert {\n",
              "      background-color: #E8F0FE;\n",
              "      border: none;\n",
              "      border-radius: 50%;\n",
              "      cursor: pointer;\n",
              "      display: none;\n",
              "      fill: #1967D2;\n",
              "      height: 32px;\n",
              "      padding: 0 0 0 0;\n",
              "      width: 32px;\n",
              "    }\n",
              "\n",
              "    .colab-df-convert:hover {\n",
              "      background-color: #E2EBFA;\n",
              "      box-shadow: 0px 1px 2px rgba(60, 64, 67, 0.3), 0px 1px 3px 1px rgba(60, 64, 67, 0.15);\n",
              "      fill: #174EA6;\n",
              "    }\n",
              "\n",
              "    .colab-df-buttons div {\n",
              "      margin-bottom: 4px;\n",
              "    }\n",
              "\n",
              "    [theme=dark] .colab-df-convert {\n",
              "      background-color: #3B4455;\n",
              "      fill: #D2E3FC;\n",
              "    }\n",
              "\n",
              "    [theme=dark] .colab-df-convert:hover {\n",
              "      background-color: #434B5C;\n",
              "      box-shadow: 0px 1px 3px 1px rgba(0, 0, 0, 0.15);\n",
              "      filter: drop-shadow(0px 1px 2px rgba(0, 0, 0, 0.3));\n",
              "      fill: #FFFFFF;\n",
              "    }\n",
              "  </style>\n",
              "\n",
              "    <script>\n",
              "      const buttonEl =\n",
              "        document.querySelector('#df-084f3ba2-fc61-4daa-83ff-4abe6986eada button.colab-df-convert');\n",
              "      buttonEl.style.display =\n",
              "        google.colab.kernel.accessAllowed ? 'block' : 'none';\n",
              "\n",
              "      async function convertToInteractive(key) {\n",
              "        const element = document.querySelector('#df-084f3ba2-fc61-4daa-83ff-4abe6986eada');\n",
              "        const dataTable =\n",
              "          await google.colab.kernel.invokeFunction('convertToInteractive',\n",
              "                                                    [key], {});\n",
              "        if (!dataTable) return;\n",
              "\n",
              "        const docLinkHtml = 'Like what you see? Visit the ' +\n",
              "          '<a target=\"_blank\" href=https://colab.research.google.com/notebooks/data_table.ipynb>data table notebook</a>'\n",
              "          + ' to learn more about interactive tables.';\n",
              "        element.innerHTML = '';\n",
              "        dataTable['output_type'] = 'display_data';\n",
              "        await google.colab.output.renderOutput(dataTable, element);\n",
              "        const docLink = document.createElement('div');\n",
              "        docLink.innerHTML = docLinkHtml;\n",
              "        element.appendChild(docLink);\n",
              "      }\n",
              "    </script>\n",
              "  </div>\n",
              "\n",
              "\n",
              "<div id=\"df-1c57dc9f-ac4b-4681-8dd8-c7ffda3c76dd\">\n",
              "  <button class=\"colab-df-quickchart\" onclick=\"quickchart('df-1c57dc9f-ac4b-4681-8dd8-c7ffda3c76dd')\"\n",
              "            title=\"Suggest charts\"\n",
              "            style=\"display:none;\">\n",
              "\n",
              "<svg xmlns=\"http://www.w3.org/2000/svg\" height=\"24px\"viewBox=\"0 0 24 24\"\n",
              "     width=\"24px\">\n",
              "    <g>\n",
              "        <path d=\"M19 3H5c-1.1 0-2 .9-2 2v14c0 1.1.9 2 2 2h14c1.1 0 2-.9 2-2V5c0-1.1-.9-2-2-2zM9 17H7v-7h2v7zm4 0h-2V7h2v10zm4 0h-2v-4h2v4z\"/>\n",
              "    </g>\n",
              "</svg>\n",
              "  </button>\n",
              "\n",
              "<style>\n",
              "  .colab-df-quickchart {\n",
              "      --bg-color: #E8F0FE;\n",
              "      --fill-color: #1967D2;\n",
              "      --hover-bg-color: #E2EBFA;\n",
              "      --hover-fill-color: #174EA6;\n",
              "      --disabled-fill-color: #AAA;\n",
              "      --disabled-bg-color: #DDD;\n",
              "  }\n",
              "\n",
              "  [theme=dark] .colab-df-quickchart {\n",
              "      --bg-color: #3B4455;\n",
              "      --fill-color: #D2E3FC;\n",
              "      --hover-bg-color: #434B5C;\n",
              "      --hover-fill-color: #FFFFFF;\n",
              "      --disabled-bg-color: #3B4455;\n",
              "      --disabled-fill-color: #666;\n",
              "  }\n",
              "\n",
              "  .colab-df-quickchart {\n",
              "    background-color: var(--bg-color);\n",
              "    border: none;\n",
              "    border-radius: 50%;\n",
              "    cursor: pointer;\n",
              "    display: none;\n",
              "    fill: var(--fill-color);\n",
              "    height: 32px;\n",
              "    padding: 0;\n",
              "    width: 32px;\n",
              "  }\n",
              "\n",
              "  .colab-df-quickchart:hover {\n",
              "    background-color: var(--hover-bg-color);\n",
              "    box-shadow: 0 1px 2px rgba(60, 64, 67, 0.3), 0 1px 3px 1px rgba(60, 64, 67, 0.15);\n",
              "    fill: var(--button-hover-fill-color);\n",
              "  }\n",
              "\n",
              "  .colab-df-quickchart-complete:disabled,\n",
              "  .colab-df-quickchart-complete:disabled:hover {\n",
              "    background-color: var(--disabled-bg-color);\n",
              "    fill: var(--disabled-fill-color);\n",
              "    box-shadow: none;\n",
              "  }\n",
              "\n",
              "  .colab-df-spinner {\n",
              "    border: 2px solid var(--fill-color);\n",
              "    border-color: transparent;\n",
              "    border-bottom-color: var(--fill-color);\n",
              "    animation:\n",
              "      spin 1s steps(1) infinite;\n",
              "  }\n",
              "\n",
              "  @keyframes spin {\n",
              "    0% {\n",
              "      border-color: transparent;\n",
              "      border-bottom-color: var(--fill-color);\n",
              "      border-left-color: var(--fill-color);\n",
              "    }\n",
              "    20% {\n",
              "      border-color: transparent;\n",
              "      border-left-color: var(--fill-color);\n",
              "      border-top-color: var(--fill-color);\n",
              "    }\n",
              "    30% {\n",
              "      border-color: transparent;\n",
              "      border-left-color: var(--fill-color);\n",
              "      border-top-color: var(--fill-color);\n",
              "      border-right-color: var(--fill-color);\n",
              "    }\n",
              "    40% {\n",
              "      border-color: transparent;\n",
              "      border-right-color: var(--fill-color);\n",
              "      border-top-color: var(--fill-color);\n",
              "    }\n",
              "    60% {\n",
              "      border-color: transparent;\n",
              "      border-right-color: var(--fill-color);\n",
              "    }\n",
              "    80% {\n",
              "      border-color: transparent;\n",
              "      border-right-color: var(--fill-color);\n",
              "      border-bottom-color: var(--fill-color);\n",
              "    }\n",
              "    90% {\n",
              "      border-color: transparent;\n",
              "      border-bottom-color: var(--fill-color);\n",
              "    }\n",
              "  }\n",
              "</style>\n",
              "\n",
              "  <script>\n",
              "    async function quickchart(key) {\n",
              "      const quickchartButtonEl =\n",
              "        document.querySelector('#' + key + ' button');\n",
              "      quickchartButtonEl.disabled = true;  // To prevent multiple clicks.\n",
              "      quickchartButtonEl.classList.add('colab-df-spinner');\n",
              "      try {\n",
              "        const charts = await google.colab.kernel.invokeFunction(\n",
              "            'suggestCharts', [key], {});\n",
              "      } catch (error) {\n",
              "        console.error('Error during call to suggestCharts:', error);\n",
              "      }\n",
              "      quickchartButtonEl.classList.remove('colab-df-spinner');\n",
              "      quickchartButtonEl.classList.add('colab-df-quickchart-complete');\n",
              "    }\n",
              "    (() => {\n",
              "      let quickchartButtonEl =\n",
              "        document.querySelector('#df-1c57dc9f-ac4b-4681-8dd8-c7ffda3c76dd button');\n",
              "      quickchartButtonEl.style.display =\n",
              "        google.colab.kernel.accessAllowed ? 'block' : 'none';\n",
              "    })();\n",
              "  </script>\n",
              "</div>\n",
              "\n",
              "    </div>\n",
              "  </div>\n"
            ],
            "application/vnd.google.colaboratory.intrinsic+json": {
              "type": "dataframe",
              "summary": "{\n  \"name\": \"hu\",\n  \"rows\": 4557,\n  \"fields\": [\n    {\n      \"column\": \"CellID\",\n      \"properties\": {\n        \"dtype\": \"string\",\n        \"num_unique_values\": 4557,\n        \"samples\": [\n          \"sc_b2_H22\",\n          \"11545L-p1-G06\",\n          \"sc_b1_J08\"\n        ],\n        \"semantic_type\": \"\",\n        \"description\": \"\"\n      }\n    },\n    {\n      \"column\": \"Patient\",\n      \"properties\": {\n        \"dtype\": \"category\",\n        \"num_unique_values\": 10,\n        \"samples\": [\n          \"11553\",\n          \"34350\",\n          \"11543\"\n        ],\n        \"semantic_type\": \"\",\n        \"description\": \"\"\n      }\n    },\n    {\n      \"column\": \"Author\",\n      \"properties\": {\n        \"dtype\": \"category\",\n        \"num_unique_values\": 1,\n        \"samples\": [\n          \"Hu_2020\"\n        ],\n        \"semantic_type\": \"\",\n        \"description\": \"\"\n      }\n    },\n    {\n      \"column\": \"Tissue\",\n      \"properties\": {\n        \"dtype\": \"category\",\n        \"num_unique_values\": 2,\n        \"samples\": [\n          \"HGSOC fallopian tube cells\"\n        ],\n        \"semantic_type\": \"\",\n        \"description\": \"\"\n      }\n    },\n    {\n      \"column\": \"Disease_stage\",\n      \"properties\": {\n        \"dtype\": \"category\",\n        \"num_unique_values\": 5,\n        \"samples\": [\n          \"IV\"\n        ],\n        \"semantic_type\": \"\",\n        \"description\": \"\"\n      }\n    },\n    {\n      \"column\": \"Age\",\n      \"properties\": {\n        \"dtype\": \"category\",\n        \"num_unique_values\": 10,\n        \"samples\": [\n          \"77\"\n        ],\n        \"semantic_type\": \"\",\n        \"description\": \"\"\n      }\n    }\n  ]\n}"
            }
          },
          "metadata": {},
          "execution_count": 48
        }
      ]
    },
    {
      "cell_type": "markdown",
      "source": [
        "**4. View the highest expressed genes**\n",
        "\n",
        "  Using sc.pl.highest_expr_genes(data, n_top=int)"
      ],
      "metadata": {
        "id": "05aUsuESL4AJ"
      }
    },
    {
      "cell_type": "code",
      "source": [],
      "metadata": {
        "id": "V_eHOlAuMDSn"
      },
      "execution_count": null,
      "outputs": []
    },
    {
      "cell_type": "markdown",
      "source": [
        "# **2. Filtering of the data**\n"
      ],
      "metadata": {
        "id": "3Hat0eHIJNqH"
      }
    },
    {
      "cell_type": "markdown",
      "source": [
        "**1. Filter out cells which have less than 100 genes expressed, and genes which are expressed in less than 3 cells.**\n",
        "\n",
        "Use the scanpy commands:\n",
        "\n",
        "* sc.pp.filter_cells(data, min_genes= *int*)\n",
        "* sc.pp.filter_genes(data, min_cells= *int*)\n",
        "\n"
      ],
      "metadata": {
        "id": "luP2eJfSMHLP"
      }
    },
    {
      "cell_type": "code",
      "source": [],
      "metadata": {
        "id": "O_VutGl6MGy9"
      },
      "execution_count": null,
      "outputs": []
    },
    {
      "cell_type": "markdown",
      "source": [
        "**2.Calculate quality control metrics**\n",
        "\n",
        "* sc.pp.calculate_qc_metrics(data, percent_top=(50/\n",
        "100/200/500),inplace=True, log1p=False, )"
      ],
      "metadata": {
        "id": "qkwycChiOoKn"
      }
    },
    {
      "cell_type": "code",
      "source": [],
      "metadata": {
        "id": "MjCvnkYlPSh1"
      },
      "execution_count": null,
      "outputs": []
    },
    {
      "cell_type": "markdown",
      "source": [
        "**3. View quality control metrics in a violin plot**\n",
        "* sc.pl.violin(data, ['n_genes_by_counts','total_counts'],jitter=0.4, multi_panel=True)"
      ],
      "metadata": {
        "id": "H2HFJ6CXPcam"
      }
    },
    {
      "cell_type": "code",
      "source": [],
      "metadata": {
        "id": "TJFFOOiAPt0f"
      },
      "execution_count": null,
      "outputs": []
    },
    {
      "cell_type": "markdown",
      "source": [
        "**4.Filter the cells further by slicing the anndata object on 'n_genes_by_counts' <6000 and 'total_counts' <1500000**\n",
        "\n",
        "For n_genes_by_counts (remove cells with a high number of detected genes) this would be:\n",
        "* data=data[data.obs.n_genes_by_counts <6000,:]\n"
      ],
      "metadata": {
        "id": "7BWH6wYePvpm"
      }
    },
    {
      "cell_type": "code",
      "source": [],
      "metadata": {
        "id": "emmk5Fd-T6Q5"
      },
      "execution_count": null,
      "outputs": []
    },
    {
      "cell_type": "markdown",
      "source": [
        "**5.View the structure of the data after filtering steps**"
      ],
      "metadata": {
        "id": "rBFugHyiUCAd"
      }
    },
    {
      "cell_type": "code",
      "source": [],
      "metadata": {
        "id": "Ko9LQMnEZoU4"
      },
      "execution_count": null,
      "outputs": []
    },
    {
      "cell_type": "markdown",
      "source": [
        "# **3.Dimensionality Reduction and visualisation**\n",
        "To plot the data in a UMAP,\n",
        "\n",
        "\n",
        "1. Initial pre-processing steps:\n",
        "* Normalise the counts per cell, so each cell has 10,000 counts\n",
        "* log transform the data\n",
        "\n",
        "2.   Identify and crop the data to only the highly variable genes, then scale the data\n",
        "3.   Compute the PCA\n",
        "4.   Compute the Nearest neighbours graph\n",
        "5.   Compute the UMAP\n",
        "\n",
        "\n"
      ],
      "metadata": {
        "id": "D7zBVzLlJxG9"
      }
    },
    {
      "cell_type": "markdown",
      "source": [
        "**1.Normalise and log transform the data**\n",
        "* sc.pp.normalize_total(data, target_sum=1e4)\n",
        "* sc.pp.log1p(data)"
      ],
      "metadata": {
        "id": "I2tFSdNBVgPJ"
      }
    },
    {
      "cell_type": "code",
      "source": [],
      "metadata": {
        "id": "FhdEXRCjVW1W"
      },
      "execution_count": null,
      "outputs": []
    },
    {
      "cell_type": "markdown",
      "source": [
        "**2.Crop the data to highly variable genes only**\n",
        "* sc.pp.highly_variable_genes(data, min_mean=0.0125, max_mean=3, min_disp=0.5)\n",
        "* sc.pl.highly_variable_genes(data)\n",
        "* data.raw = data\n",
        "* data = data [:, data.var.highly_variable]\n",
        "* sc.pp.scale(data, max_value=10)"
      ],
      "metadata": {
        "id": "2W62vxNdWDl4"
      }
    },
    {
      "cell_type": "code",
      "source": [],
      "metadata": {
        "id": "0U3APr4eX0X2"
      },
      "execution_count": null,
      "outputs": []
    },
    {
      "cell_type": "markdown",
      "source": [
        "**3.Calculate and plot a principal component analysis (PCA) elbow plot**\n",
        "* sc.tl.pca(data, svd_solver='arpack')\n",
        "* sc.pl.pca_variance_ratio(data, log=True)\n",
        "* sc.pl.pca(data, color=[' '])"
      ],
      "metadata": {
        "id": "hVDDQDeDX1aL"
      }
    },
    {
      "cell_type": "code",
      "source": [],
      "metadata": {
        "id": "mHEL3R1D7HX7"
      },
      "execution_count": null,
      "outputs": []
    },
    {
      "cell_type": "markdown",
      "source": [
        "**4.Compute the nearest neighbours graph, choose the number of principal components to use based on the elbow of the PCA plot (inflection point)**\n",
        " * sc.pp.neighbors(data, n_pcs= )"
      ],
      "metadata": {
        "id": "j6TCcC2JaguW"
      }
    },
    {
      "cell_type": "code",
      "source": [],
      "metadata": {
        "id": "d5_4ECskemy6"
      },
      "execution_count": null,
      "outputs": []
    },
    {
      "cell_type": "markdown",
      "source": [
        "**5.Compute and plot the UMAP**\n",
        "* sc.tl.umap(data)\n",
        "\n",
        "Plot the UMAP by Tissue, or another value of.obs columns\n",
        "* sc.pl.umap(data, color=[''])\n"
      ],
      "metadata": {
        "id": "GWFAMwEAel2g"
      }
    },
    {
      "cell_type": "code",
      "source": [],
      "metadata": {
        "id": "yM8tboVhLHnM"
      },
      "execution_count": null,
      "outputs": []
    },
    {
      "cell_type": "code",
      "source": [],
      "metadata": {
        "id": "bXS-y3K9nnGH"
      },
      "execution_count": null,
      "outputs": []
    },
    {
      "cell_type": "markdown",
      "source": [
        "\n",
        "Plot the UMAP in the color of gene expression (use one of the genes from top 20 highly expressed genes)"
      ],
      "metadata": {
        "id": "J_nAYl29ntny"
      }
    },
    {
      "cell_type": "code",
      "source": [],
      "metadata": {
        "id": "V9-C-qBk4490"
      },
      "execution_count": null,
      "outputs": []
    },
    {
      "cell_type": "markdown",
      "source": [
        "**6.Examine how the UMAP structure changes when you change the number of pcs used to generate the n_neighbours graph**"
      ],
      "metadata": {
        "id": "p9vckko-SEnp"
      }
    },
    {
      "cell_type": "code",
      "source": [],
      "metadata": {
        "id": "4V0VtHF_gnjK"
      },
      "execution_count": null,
      "outputs": []
    },
    {
      "cell_type": "markdown",
      "source": [
        "**7. Re-run the nearest neighbours graph and UMAP with optimal number of PCs**"
      ],
      "metadata": {
        "id": "KGRckkc1N2sY"
      }
    },
    {
      "cell_type": "markdown",
      "source": [
        "# **5.Leiden clustering**\n",
        "Cluster the cells to identify similar groups of cells\n",
        "* By examining gene expression, determine what type of cells are in each cluster\n",
        "* Using a dictionary, create a new obs. column assigning a label of cell type to leiden clusters\n",
        "* Test the top differentially expressed genes in each leiden cluster/cell type\n",
        "* Plot a heatmap of top differentially expressed genes in each leiden cluster/cell type"
      ],
      "metadata": {
        "id": "t3L8CSbzLyGF"
      }
    },
    {
      "cell_type": "markdown",
      "source": [
        "**1. Perform leiden clustering, then visualise clusters on the UMAP**\n",
        "* sc.tl.leiden(data, resolution=0.2)\n",
        "* sc.pl.umap(data, colour=['Leiden'])"
      ],
      "metadata": {
        "id": "yweK0ua0qp89"
      }
    },
    {
      "cell_type": "code",
      "source": [],
      "metadata": {
        "id": "JHS8UXk_6NeE"
      },
      "execution_count": null,
      "outputs": []
    },
    {
      "cell_type": "markdown",
      "source": [
        "**2. Calculate the top differentially expressed genes in each leiden cluster**\n",
        "* sc.tl.rank_genes_groups(data,'leiden', method='wilcoxon')\n",
        "* sc.pl.rank_genes_groups(data, n_genes=25)"
      ],
      "metadata": {
        "id": "ab7jgDsr4zCJ"
      }
    },
    {
      "cell_type": "code",
      "source": [],
      "metadata": {
        "id": "Psnm70bI5GZU"
      },
      "execution_count": null,
      "outputs": []
    },
    {
      "cell_type": "markdown",
      "source": [
        "**3. Export the ranked genes, with scores to a csv file (we will come back to these tomorrow)**"
      ],
      "metadata": {
        "id": "8V9oDvWzNfMh"
      }
    },
    {
      "cell_type": "code",
      "source": [
        "topmarkers=hu.uns['rank_genes_groups']\n",
        "groups = topmarkers['names'].dtype.names\n",
        "celltypemarkergenes = pd.DataFrame({group +'_'+key[:1]:topmarkers[key][group]\n",
        "              for group in groups for key in ['names','scores']})\n",
        "\n",
        "celltypemarkergenes.to_csv(r'/content/drive/MyDrive/datascience_course/celltypemarkergenes.csv', index=False)\n",
        "\n",
        "celltypemarkergenes"
      ],
      "metadata": {
        "id": "5a82VXQSVTlP"
      },
      "execution_count": null,
      "outputs": []
    },
    {
      "cell_type": "markdown",
      "source": [
        "**3. Plot top 20 differentially expressed genes in a heatmap**\n",
        "\n",
        "* sc.pl.rank_genes_groups_heatmap(data, n_genes=20, swap_axes=True, show_gene_labels=False, vmin=-3, vmax=3 )"
      ],
      "metadata": {
        "id": "Iq2z56Pi49Ae"
      }
    },
    {
      "cell_type": "code",
      "source": [],
      "metadata": {
        "id": "P06eQFgo5XiT"
      },
      "execution_count": null,
      "outputs": []
    },
    {
      "cell_type": "markdown",
      "source": [
        "**4. Visualise marker genes to determine the cell types present in each cluster**\n",
        "\n",
        "Secretory Epithelial : OVGP1\n",
        "\n",
        "Ciliated Epithelial : FOXJ1, PIFO\n",
        "\n",
        "Immune: PTPRC\n",
        "\n",
        "Fibroblast: COL1A1, DCN\n",
        "\n",
        "STIC lesion : KRT17\n",
        "\n",
        "\n",
        "* sc.pl.violin(data, ['EPCAM','OVGP1','...'], groupby = 'leiden')\n"
      ],
      "metadata": {
        "id": "dCt-93EkMmqU"
      }
    },
    {
      "cell_type": "code",
      "source": [],
      "metadata": {
        "id": "qBgTDG2M6dRc"
      },
      "execution_count": null,
      "outputs": []
    },
    {
      "cell_type": "markdown",
      "source": [
        "**5. From these markers, it is still unclear what cell types some of the leiden clusters are**\n",
        "\n",
        "Look up some of the top marker genes for these clusters to determine what cell types they are."
      ],
      "metadata": {
        "id": "SrqDD04ldxU3"
      }
    },
    {
      "cell_type": "code",
      "source": [],
      "metadata": {
        "id": "2HZGz9s2dv7I"
      },
      "execution_count": null,
      "outputs": []
    },
    {
      "cell_type": "markdown",
      "source": [
        "**6. Create a dictionary defining Leiden clusters and their respective cell type**\n",
        "\n",
        "Create a new .obs column to store the cell types , and map this to leiden clusters using the dictionary,\n",
        "\n",
        "Which cluster represents high grade carcinoma cells?\n",
        "\n",
        "```\n",
        "celltypedict = {\n",
        "        '0' : 'Secretory Epithelial',\n",
        "        '1' : 'Fibroblast' }\n",
        "\n",
        "data.obs['Celltype'] = hu.obs['leiden'].map(celltypedict)\n"
      ],
      "metadata": {
        "id": "Bm_6gWsjNad5"
      }
    },
    {
      "cell_type": "code",
      "source": [],
      "metadata": {
        "id": "K1AdNmR-RuRv"
      },
      "execution_count": null,
      "outputs": []
    },
    {
      "cell_type": "markdown",
      "source": [
        "**7. Plot a UMAP colored by cell types**"
      ],
      "metadata": {
        "id": "v3dRzAxBS_hn"
      }
    },
    {
      "cell_type": "code",
      "source": [],
      "metadata": {
        "id": "ohxaw1AsXoHd"
      },
      "execution_count": null,
      "outputs": []
    },
    {
      "cell_type": "markdown",
      "source": [
        "## **6. Querying GWAS catalog API**\n"
      ],
      "metadata": {
        "id": "inrzyyMH9EJK"
      }
    },
    {
      "cell_type": "markdown",
      "source": [
        "As these women were diagnosed with ovarian cancers, we can use the GWAS catalog to look at the expression of genes associated with epithelial carcinomas\n",
        "\n",
        "Use the packages: 'requests' and 'json'\n",
        "\n",
        "Make a get request to the API for the association data from study no. GCST003588, the https address to use is \"https://www.ebi.ac.uk/gwas/rest/api/studies/GCST003588/associations\"\n",
        "\n",
        "\n",
        "\n"
      ],
      "metadata": {
        "id": "ABGif4gHPSOM"
      }
    },
    {
      "cell_type": "markdown",
      "source": [
        "**3. We can use the GWAS catalog obtain a list of genes associated with high grade serous ovarian carcinoma**\n"
      ],
      "metadata": {
        "id": "RukUtWMr8hm-"
      }
    },
    {
      "cell_type": "code",
      "source": [
        "import requests\n",
        "import json"
      ],
      "metadata": {
        "id": "XnyfCbvzzJlG"
      },
      "execution_count": null,
      "outputs": []
    },
    {
      "cell_type": "code",
      "source": [
        "response=requests.get(\"https://www.ebi.ac.uk/gwas/rest/api/studies/GCST003588/associations\")\n",
        "response.json()"
      ],
      "metadata": {
        "colab": {
          "base_uri": "https://localhost:8080/"
        },
        "collapsed": true,
        "id": "vWx2lGRS0EaN",
        "outputId": "57bbed8d-6240-4da2-c42f-b42283a7ae91"
      },
      "execution_count": null,
      "outputs": [
        {
          "output_type": "execute_result",
          "data": {
            "text/plain": [
              "{'_embedded': {'associations': [{'riskFrequency': 'NR',\n",
              "    'pvalueDescription': '(subset analysis)',\n",
              "    'pvalueMantissa': 5,\n",
              "    'pvalueExponent': -10,\n",
              "    'multiSnpHaplotype': False,\n",
              "    'snpInteraction': False,\n",
              "    'snpType': 'novel',\n",
              "    'standardError': None,\n",
              "    'range': None,\n",
              "    'description': None,\n",
              "    'orPerCopyNum': None,\n",
              "    'betaNum': None,\n",
              "    'betaUnit': None,\n",
              "    'betaDirection': None,\n",
              "    'loci': [{'haplotypeSnpCount': None,\n",
              "      'description': 'Single variant',\n",
              "      'strongestRiskAlleles': [{'riskAlleleName': 'rs186507655-A',\n",
              "        'riskFrequency': 'NR',\n",
              "        'genomeWide': False,\n",
              "        'limitedList': False,\n",
              "        '_links': {'proxySnps': {'href': 'https://www.ebi.ac.uk/gwas/rest/api/singleNucleotidePolymorphisms/NR{?projection}',\n",
              "          'templated': True},\n",
              "         'snp': {'href': 'https://www.ebi.ac.uk/gwas/rest/api/singleNucleotidePolymorphisms/rs186507655{?projection}',\n",
              "          'templated': True}}}],\n",
              "      'authorReportedGenes': [{'geneName': 'Intergenic',\n",
              "        'entrezGeneIds': [],\n",
              "        'ensemblGeneIds': []}],\n",
              "      '_links': {'association': {'href': 'https://www.ebi.ac.uk/gwas/rest/api/associations/17377182{?projection}',\n",
              "        'templated': True}}}],\n",
              "    'lastMappingDate': '2024-02-17T01:29:01.000+0000',\n",
              "    'lastUpdateDate': '2024-02-17T01:29:01.000+0000',\n",
              "    'pvalue': 5e-10,\n",
              "    '_links': {'self': {'href': 'https://www.ebi.ac.uk/gwas/rest/api/associations/17377182'},\n",
              "     'association': {'href': 'https://www.ebi.ac.uk/gwas/rest/api/associations/17377182{?projection}',\n",
              "      'templated': True},\n",
              "     'study': {'href': 'https://www.ebi.ac.uk/gwas/rest/api/associations/17377182/study'},\n",
              "     'backgroundEfoTraits': {'href': 'https://www.ebi.ac.uk/gwas/rest/api/associations/17377182/backgroundEfoTraits'},\n",
              "     'snps': {'href': 'https://www.ebi.ac.uk/gwas/rest/api/associations/17377182/snps'},\n",
              "     'efoTraits': {'href': 'https://www.ebi.ac.uk/gwas/rest/api/associations/17377182/efoTraits'}}},\n",
              "   {'riskFrequency': 'NR',\n",
              "    'pvalueDescription': '(subset analysis)',\n",
              "    'pvalueMantissa': 5,\n",
              "    'pvalueExponent': -6,\n",
              "    'multiSnpHaplotype': False,\n",
              "    'snpInteraction': False,\n",
              "    'snpType': 'novel',\n",
              "    'standardError': None,\n",
              "    'range': None,\n",
              "    'description': None,\n",
              "    'orPerCopyNum': None,\n",
              "    'betaNum': None,\n",
              "    'betaUnit': None,\n",
              "    'betaDirection': None,\n",
              "    'loci': [{'haplotypeSnpCount': None,\n",
              "      'description': 'Single variant',\n",
              "      'strongestRiskAlleles': [{'riskAlleleName': 'rs2075570-T',\n",
              "        'riskFrequency': 'NR',\n",
              "        'genomeWide': False,\n",
              "        'limitedList': False,\n",
              "        '_links': {'proxySnps': {'href': 'https://www.ebi.ac.uk/gwas/rest/api/singleNucleotidePolymorphisms/NR{?projection}',\n",
              "          'templated': True},\n",
              "         'snp': {'href': 'https://www.ebi.ac.uk/gwas/rest/api/singleNucleotidePolymorphisms/rs2075570{?projection}',\n",
              "          'templated': True}}}],\n",
              "      'authorReportedGenes': [{'geneName': 'MTX1',\n",
              "        'entrezGeneIds': [{'entrezGeneId': '4580'}],\n",
              "        'ensemblGeneIds': [{'ensemblGeneId': 'ENSG00000173171'}]}],\n",
              "      '_links': {'association': {'href': 'https://www.ebi.ac.uk/gwas/rest/api/associations/17377241{?projection}',\n",
              "        'templated': True}}}],\n",
              "    'lastMappingDate': '2024-02-17T01:29:04.000+0000',\n",
              "    'lastUpdateDate': '2024-02-17T01:29:04.000+0000',\n",
              "    'pvalue': 4.9999999999999996e-06,\n",
              "    '_links': {'self': {'href': 'https://www.ebi.ac.uk/gwas/rest/api/associations/17377241'},\n",
              "     'association': {'href': 'https://www.ebi.ac.uk/gwas/rest/api/associations/17377241{?projection}',\n",
              "      'templated': True},\n",
              "     'study': {'href': 'https://www.ebi.ac.uk/gwas/rest/api/associations/17377241/study'},\n",
              "     'backgroundEfoTraits': {'href': 'https://www.ebi.ac.uk/gwas/rest/api/associations/17377241/backgroundEfoTraits'},\n",
              "     'snps': {'href': 'https://www.ebi.ac.uk/gwas/rest/api/associations/17377241/snps'},\n",
              "     'efoTraits': {'href': 'https://www.ebi.ac.uk/gwas/rest/api/associations/17377241/efoTraits'}}},\n",
              "   {'riskFrequency': 'NR',\n",
              "    'pvalueDescription': '(subset analysis)',\n",
              "    'pvalueMantissa': 2,\n",
              "    'pvalueExponent': -9,\n",
              "    'multiSnpHaplotype': False,\n",
              "    'snpInteraction': False,\n",
              "    'snpType': 'novel',\n",
              "    'standardError': None,\n",
              "    'range': None,\n",
              "    'description': None,\n",
              "    'orPerCopyNum': None,\n",
              "    'betaNum': None,\n",
              "    'betaUnit': None,\n",
              "    'betaDirection': None,\n",
              "    'loci': [{'haplotypeSnpCount': None,\n",
              "      'description': 'Single variant',\n",
              "      'strongestRiskAlleles': [{'riskAlleleName': 'rs481519-T',\n",
              "        'riskFrequency': 'NR',\n",
              "        'genomeWide': False,\n",
              "        'limitedList': False,\n",
              "        '_links': {'proxySnps': {'href': 'https://www.ebi.ac.uk/gwas/rest/api/singleNucleotidePolymorphisms/NR{?projection}',\n",
              "          'templated': True},\n",
              "         'snp': {'href': 'https://www.ebi.ac.uk/gwas/rest/api/singleNucleotidePolymorphisms/rs481519{?projection}',\n",
              "          'templated': True}}}],\n",
              "      'authorReportedGenes': [{'geneName': 'NEK10',\n",
              "        'entrezGeneIds': [{'entrezGeneId': '152110'}],\n",
              "        'ensemblGeneIds': [{'ensemblGeneId': 'ENSG00000163491'}]}],\n",
              "      '_links': {'association': {'href': 'https://www.ebi.ac.uk/gwas/rest/api/associations/17377338{?projection}',\n",
              "        'templated': True}}}],\n",
              "    'lastMappingDate': '2024-02-17T01:29:06.000+0000',\n",
              "    'lastUpdateDate': '2024-02-17T01:29:06.000+0000',\n",
              "    'pvalue': 2e-09,\n",
              "    '_links': {'self': {'href': 'https://www.ebi.ac.uk/gwas/rest/api/associations/17377338'},\n",
              "     'association': {'href': 'https://www.ebi.ac.uk/gwas/rest/api/associations/17377338{?projection}',\n",
              "      'templated': True},\n",
              "     'study': {'href': 'https://www.ebi.ac.uk/gwas/rest/api/associations/17377338/study'},\n",
              "     'backgroundEfoTraits': {'href': 'https://www.ebi.ac.uk/gwas/rest/api/associations/17377338/backgroundEfoTraits'},\n",
              "     'snps': {'href': 'https://www.ebi.ac.uk/gwas/rest/api/associations/17377338/snps'},\n",
              "     'efoTraits': {'href': 'https://www.ebi.ac.uk/gwas/rest/api/associations/17377338/efoTraits'}}},\n",
              "   {'riskFrequency': 'NR',\n",
              "    'pvalueDescription': '(subset analysis)',\n",
              "    'pvalueMantissa': 1,\n",
              "    'pvalueExponent': -10,\n",
              "    'multiSnpHaplotype': False,\n",
              "    'snpInteraction': False,\n",
              "    'snpType': 'novel',\n",
              "    'standardError': None,\n",
              "    'range': None,\n",
              "    'description': None,\n",
              "    'orPerCopyNum': None,\n",
              "    'betaNum': None,\n",
              "    'betaUnit': None,\n",
              "    'betaDirection': None,\n",
              "    'loci': [{'haplotypeSnpCount': None,\n",
              "      'description': 'Single variant',\n",
              "      'strongestRiskAlleles': [{'riskAlleleName': 'rs7679673-A',\n",
              "        'riskFrequency': 'NR',\n",
              "        'genomeWide': False,\n",
              "        'limitedList': False,\n",
              "        '_links': {'proxySnps': {'href': 'https://www.ebi.ac.uk/gwas/rest/api/singleNucleotidePolymorphisms/NR{?projection}',\n",
              "          'templated': True},\n",
              "         'snp': {'href': 'https://www.ebi.ac.uk/gwas/rest/api/singleNucleotidePolymorphisms/rs7679673{?projection}',\n",
              "          'templated': True}}}],\n",
              "      'authorReportedGenes': [{'geneName': 'Intergenic',\n",
              "        'entrezGeneIds': [],\n",
              "        'ensemblGeneIds': []}],\n",
              "      '_links': {'association': {'href': 'https://www.ebi.ac.uk/gwas/rest/api/associations/17377354{?projection}',\n",
              "        'templated': True}}}],\n",
              "    'lastMappingDate': '2024-02-17T01:29:09.000+0000',\n",
              "    'lastUpdateDate': '2024-02-17T01:29:09.000+0000',\n",
              "    'pvalue': 1e-10,\n",
              "    '_links': {'self': {'href': 'https://www.ebi.ac.uk/gwas/rest/api/associations/17377354'},\n",
              "     'association': {'href': 'https://www.ebi.ac.uk/gwas/rest/api/associations/17377354{?projection}',\n",
              "      'templated': True},\n",
              "     'study': {'href': 'https://www.ebi.ac.uk/gwas/rest/api/associations/17377354/study'},\n",
              "     'backgroundEfoTraits': {'href': 'https://www.ebi.ac.uk/gwas/rest/api/associations/17377354/backgroundEfoTraits'},\n",
              "     'snps': {'href': 'https://www.ebi.ac.uk/gwas/rest/api/associations/17377354/snps'},\n",
              "     'efoTraits': {'href': 'https://www.ebi.ac.uk/gwas/rest/api/associations/17377354/efoTraits'}}},\n",
              "   {'riskFrequency': 'NR',\n",
              "    'pvalueDescription': '(subset analysis)',\n",
              "    'pvalueMantissa': 2,\n",
              "    'pvalueExponent': -10,\n",
              "    'multiSnpHaplotype': False,\n",
              "    'snpInteraction': False,\n",
              "    'snpType': 'novel',\n",
              "    'standardError': None,\n",
              "    'range': None,\n",
              "    'description': None,\n",
              "    'orPerCopyNum': None,\n",
              "    'betaNum': None,\n",
              "    'betaUnit': None,\n",
              "    'betaDirection': None,\n",
              "    'loci': [{'haplotypeSnpCount': None,\n",
              "      'description': 'Single variant',\n",
              "      'strongestRiskAlleles': [{'riskAlleleName': 'rs7725218-A',\n",
              "        'riskFrequency': 'NR',\n",
              "        'genomeWide': False,\n",
              "        'limitedList': False,\n",
              "        '_links': {'proxySnps': {'href': 'https://www.ebi.ac.uk/gwas/rest/api/singleNucleotidePolymorphisms/NR{?projection}',\n",
              "          'templated': True},\n",
              "         'snp': {'href': 'https://www.ebi.ac.uk/gwas/rest/api/singleNucleotidePolymorphisms/rs7725218{?projection}',\n",
              "          'templated': True}}}],\n",
              "      'authorReportedGenes': [{'geneName': 'TERT',\n",
              "        'entrezGeneIds': [{'entrezGeneId': '7015'}],\n",
              "        'ensemblGeneIds': [{'ensemblGeneId': 'ENSG00000164362'}]}],\n",
              "      '_links': {'association': {'href': 'https://www.ebi.ac.uk/gwas/rest/api/associations/17377370{?projection}',\n",
              "        'templated': True}}}],\n",
              "    'lastMappingDate': '2024-02-17T01:29:11.000+0000',\n",
              "    'lastUpdateDate': '2024-02-17T01:29:11.000+0000',\n",
              "    'pvalue': 2e-10,\n",
              "    '_links': {'self': {'href': 'https://www.ebi.ac.uk/gwas/rest/api/associations/17377370'},\n",
              "     'association': {'href': 'https://www.ebi.ac.uk/gwas/rest/api/associations/17377370{?projection}',\n",
              "      'templated': True},\n",
              "     'study': {'href': 'https://www.ebi.ac.uk/gwas/rest/api/associations/17377370/study'},\n",
              "     'backgroundEfoTraits': {'href': 'https://www.ebi.ac.uk/gwas/rest/api/associations/17377370/backgroundEfoTraits'},\n",
              "     'snps': {'href': 'https://www.ebi.ac.uk/gwas/rest/api/associations/17377370/snps'},\n",
              "     'efoTraits': {'href': 'https://www.ebi.ac.uk/gwas/rest/api/associations/17377370/efoTraits'}}},\n",
              "   {'riskFrequency': 'NR',\n",
              "    'pvalueDescription': '(subset analysis)',\n",
              "    'pvalueMantissa': 4,\n",
              "    'pvalueExponent': -12,\n",
              "    'multiSnpHaplotype': False,\n",
              "    'snpInteraction': False,\n",
              "    'snpType': 'novel',\n",
              "    'standardError': None,\n",
              "    'range': None,\n",
              "    'description': None,\n",
              "    'orPerCopyNum': None,\n",
              "    'betaNum': None,\n",
              "    'betaUnit': None,\n",
              "    'betaDirection': None,\n",
              "    'loci': [{'haplotypeSnpCount': None,\n",
              "      'description': 'Single variant',\n",
              "      'strongestRiskAlleles': [{'riskAlleleName': 'rs1862626-T',\n",
              "        'riskFrequency': 'NR',\n",
              "        'genomeWide': False,\n",
              "        'limitedList': False,\n",
              "        '_links': {'proxySnps': {'href': 'https://www.ebi.ac.uk/gwas/rest/api/singleNucleotidePolymorphisms/NR{?projection}',\n",
              "          'templated': True},\n",
              "         'snp': {'href': 'https://www.ebi.ac.uk/gwas/rest/api/singleNucleotidePolymorphisms/rs1862626{?projection}',\n",
              "          'templated': True}}}],\n",
              "      'authorReportedGenes': [{'geneName': 'Intergenic',\n",
              "        'entrezGeneIds': [],\n",
              "        'ensemblGeneIds': []}],\n",
              "      '_links': {'association': {'href': 'https://www.ebi.ac.uk/gwas/rest/api/associations/17377390{?projection}',\n",
              "        'templated': True}}}],\n",
              "    'lastMappingDate': '2024-02-17T01:29:14.000+0000',\n",
              "    'lastUpdateDate': '2024-02-17T01:29:14.000+0000',\n",
              "    'pvalue': 4e-12,\n",
              "    '_links': {'self': {'href': 'https://www.ebi.ac.uk/gwas/rest/api/associations/17377390'},\n",
              "     'association': {'href': 'https://www.ebi.ac.uk/gwas/rest/api/associations/17377390{?projection}',\n",
              "      'templated': True},\n",
              "     'study': {'href': 'https://www.ebi.ac.uk/gwas/rest/api/associations/17377390/study'},\n",
              "     'backgroundEfoTraits': {'href': 'https://www.ebi.ac.uk/gwas/rest/api/associations/17377390/backgroundEfoTraits'},\n",
              "     'snps': {'href': 'https://www.ebi.ac.uk/gwas/rest/api/associations/17377390/snps'},\n",
              "     'efoTraits': {'href': 'https://www.ebi.ac.uk/gwas/rest/api/associations/17377390/efoTraits'}}},\n",
              "   {'riskFrequency': 'NR',\n",
              "    'pvalueDescription': '(subset analysis)',\n",
              "    'pvalueMantissa': 1,\n",
              "    'pvalueExponent': -6,\n",
              "    'multiSnpHaplotype': False,\n",
              "    'snpInteraction': False,\n",
              "    'snpType': 'novel',\n",
              "    'standardError': None,\n",
              "    'range': None,\n",
              "    'description': None,\n",
              "    'orPerCopyNum': None,\n",
              "    'betaNum': None,\n",
              "    'betaUnit': None,\n",
              "    'betaDirection': None,\n",
              "    'loci': [{'haplotypeSnpCount': None,\n",
              "      'description': 'Single variant',\n",
              "      'strongestRiskAlleles': [{'riskAlleleName': 'rs147680653-G',\n",
              "        'riskFrequency': 'NR',\n",
              "        'genomeWide': False,\n",
              "        'limitedList': False,\n",
              "        '_links': {'proxySnps': {'href': 'https://www.ebi.ac.uk/gwas/rest/api/singleNucleotidePolymorphisms/NR{?projection}',\n",
              "          'templated': True},\n",
              "         'snp': {'href': 'https://www.ebi.ac.uk/gwas/rest/api/singleNucleotidePolymorphisms/rs147680653{?projection}',\n",
              "          'templated': True}}}],\n",
              "      'authorReportedGenes': [{'geneName': 'Intergenic',\n",
              "        'entrezGeneIds': [],\n",
              "        'ensemblGeneIds': []}],\n",
              "      '_links': {'association': {'href': 'https://www.ebi.ac.uk/gwas/rest/api/associations/17377403{?projection}',\n",
              "        'templated': True}}}],\n",
              "    'lastMappingDate': '2024-02-17T01:29:16.000+0000',\n",
              "    'lastUpdateDate': '2024-02-17T01:29:16.000+0000',\n",
              "    'pvalue': 1e-06,\n",
              "    '_links': {'self': {'href': 'https://www.ebi.ac.uk/gwas/rest/api/associations/17377403'},\n",
              "     'association': {'href': 'https://www.ebi.ac.uk/gwas/rest/api/associations/17377403{?projection}',\n",
              "      'templated': True},\n",
              "     'study': {'href': 'https://www.ebi.ac.uk/gwas/rest/api/associations/17377403/study'},\n",
              "     'backgroundEfoTraits': {'href': 'https://www.ebi.ac.uk/gwas/rest/api/associations/17377403/backgroundEfoTraits'},\n",
              "     'snps': {'href': 'https://www.ebi.ac.uk/gwas/rest/api/associations/17377403/snps'},\n",
              "     'efoTraits': {'href': 'https://www.ebi.ac.uk/gwas/rest/api/associations/17377403/efoTraits'}}},\n",
              "   {'riskFrequency': 'NR',\n",
              "    'pvalueDescription': '(subset analysis)',\n",
              "    'pvalueMantissa': 5,\n",
              "    'pvalueExponent': -7,\n",
              "    'multiSnpHaplotype': False,\n",
              "    'snpInteraction': False,\n",
              "    'snpType': 'novel',\n",
              "    'standardError': None,\n",
              "    'range': None,\n",
              "    'description': None,\n",
              "    'orPerCopyNum': None,\n",
              "    'betaNum': None,\n",
              "    'betaUnit': None,\n",
              "    'betaDirection': None,\n",
              "    'loci': [{'haplotypeSnpCount': None,\n",
              "      'description': 'Single variant',\n",
              "      'strongestRiskAlleles': [{'riskAlleleName': 'rs115707823-A',\n",
              "        'riskFrequency': 'NR',\n",
              "        'genomeWide': False,\n",
              "        'limitedList': False,\n",
              "        '_links': {'proxySnps': {'href': 'https://www.ebi.ac.uk/gwas/rest/api/singleNucleotidePolymorphisms/NR{?projection}',\n",
              "          'templated': True},\n",
              "         'snp': {'href': 'https://www.ebi.ac.uk/gwas/rest/api/singleNucleotidePolymorphisms/rs115707823{?projection}',\n",
              "          'templated': True}}}],\n",
              "      'authorReportedGenes': [{'geneName': 'Intergenic',\n",
              "        'entrezGeneIds': [],\n",
              "        'ensemblGeneIds': []}],\n",
              "      '_links': {'association': {'href': 'https://www.ebi.ac.uk/gwas/rest/api/associations/17377750{?projection}',\n",
              "        'templated': True}}}],\n",
              "    'lastMappingDate': '2024-02-23T23:53:25.000+0000',\n",
              "    'lastUpdateDate': '2024-02-23T23:53:25.000+0000',\n",
              "    'pvalue': 5e-07,\n",
              "    '_links': {'self': {'href': 'https://www.ebi.ac.uk/gwas/rest/api/associations/17377750'},\n",
              "     'association': {'href': 'https://www.ebi.ac.uk/gwas/rest/api/associations/17377750{?projection}',\n",
              "      'templated': True},\n",
              "     'study': {'href': 'https://www.ebi.ac.uk/gwas/rest/api/associations/17377750/study'},\n",
              "     'backgroundEfoTraits': {'href': 'https://www.ebi.ac.uk/gwas/rest/api/associations/17377750/backgroundEfoTraits'},\n",
              "     'snps': {'href': 'https://www.ebi.ac.uk/gwas/rest/api/associations/17377750/snps'},\n",
              "     'efoTraits': {'href': 'https://www.ebi.ac.uk/gwas/rest/api/associations/17377750/efoTraits'}}},\n",
              "   {'riskFrequency': 'NR',\n",
              "    'pvalueDescription': '(subset analysis)',\n",
              "    'pvalueMantissa': 3,\n",
              "    'pvalueExponent': -7,\n",
              "    'multiSnpHaplotype': False,\n",
              "    'snpInteraction': False,\n",
              "    'snpType': 'novel',\n",
              "    'standardError': None,\n",
              "    'range': None,\n",
              "    'description': None,\n",
              "    'orPerCopyNum': None,\n",
              "    'betaNum': None,\n",
              "    'betaUnit': None,\n",
              "    'betaDirection': None,\n",
              "    'loci': [{'haplotypeSnpCount': None,\n",
              "      'description': 'Single variant',\n",
              "      'strongestRiskAlleles': [{'riskAlleleName': 'rs115392158-G',\n",
              "        'riskFrequency': 'NR',\n",
              "        'genomeWide': False,\n",
              "        'limitedList': False,\n",
              "        '_links': {'proxySnps': {'href': 'https://www.ebi.ac.uk/gwas/rest/api/singleNucleotidePolymorphisms/NR{?projection}',\n",
              "          'templated': True},\n",
              "         'snp': {'href': 'https://www.ebi.ac.uk/gwas/rest/api/singleNucleotidePolymorphisms/rs115392158{?projection}',\n",
              "          'templated': True}}}],\n",
              "      'authorReportedGenes': [{'geneName': 'HLA-C',\n",
              "        'entrezGeneIds': [{'entrezGeneId': '3107'}],\n",
              "        'ensemblGeneIds': [{'ensemblGeneId': 'ENSG00000204525'}]}],\n",
              "      '_links': {'association': {'href': 'https://www.ebi.ac.uk/gwas/rest/api/associations/17377907{?projection}',\n",
              "        'templated': True}}}],\n",
              "    'lastMappingDate': '2024-02-17T01:28:38.000+0000',\n",
              "    'lastUpdateDate': '2024-02-17T01:28:38.000+0000',\n",
              "    'pvalue': 3e-07,\n",
              "    '_links': {'self': {'href': 'https://www.ebi.ac.uk/gwas/rest/api/associations/17377907'},\n",
              "     'association': {'href': 'https://www.ebi.ac.uk/gwas/rest/api/associations/17377907{?projection}',\n",
              "      'templated': True},\n",
              "     'study': {'href': 'https://www.ebi.ac.uk/gwas/rest/api/associations/17377907/study'},\n",
              "     'backgroundEfoTraits': {'href': 'https://www.ebi.ac.uk/gwas/rest/api/associations/17377907/backgroundEfoTraits'},\n",
              "     'snps': {'href': 'https://www.ebi.ac.uk/gwas/rest/api/associations/17377907/snps'},\n",
              "     'efoTraits': {'href': 'https://www.ebi.ac.uk/gwas/rest/api/associations/17377907/efoTraits'}}},\n",
              "   {'riskFrequency': 'NR',\n",
              "    'pvalueDescription': '(subset analysis)',\n",
              "    'pvalueMantissa': 6,\n",
              "    'pvalueExponent': -8,\n",
              "    'multiSnpHaplotype': False,\n",
              "    'snpInteraction': False,\n",
              "    'snpType': 'novel',\n",
              "    'standardError': None,\n",
              "    'range': None,\n",
              "    'description': None,\n",
              "    'orPerCopyNum': None,\n",
              "    'betaNum': None,\n",
              "    'betaUnit': None,\n",
              "    'betaDirection': None,\n",
              "    'loci': [{'haplotypeSnpCount': None,\n",
              "      'description': 'Single variant',\n",
              "      'strongestRiskAlleles': [{'riskAlleleName': 'rs147527678-C',\n",
              "        'riskFrequency': 'NR',\n",
              "        'genomeWide': False,\n",
              "        'limitedList': False,\n",
              "        '_links': {'proxySnps': {'href': 'https://www.ebi.ac.uk/gwas/rest/api/singleNucleotidePolymorphisms/NR{?projection}',\n",
              "          'templated': True},\n",
              "         'snp': {'href': 'https://www.ebi.ac.uk/gwas/rest/api/singleNucleotidePolymorphisms/rs147527678{?projection}',\n",
              "          'templated': True}}}],\n",
              "      'authorReportedGenes': [{'geneName': 'Intergenic',\n",
              "        'entrezGeneIds': [],\n",
              "        'ensemblGeneIds': []}],\n",
              "      '_links': {'association': {'href': 'https://www.ebi.ac.uk/gwas/rest/api/associations/17378098{?projection}',\n",
              "        'templated': True}}}],\n",
              "    'lastMappingDate': '2024-02-17T01:28:39.000+0000',\n",
              "    'lastUpdateDate': '2024-02-17T01:28:40.000+0000',\n",
              "    'pvalue': 6.000000000000001e-08,\n",
              "    '_links': {'self': {'href': 'https://www.ebi.ac.uk/gwas/rest/api/associations/17378098'},\n",
              "     'association': {'href': 'https://www.ebi.ac.uk/gwas/rest/api/associations/17378098{?projection}',\n",
              "      'templated': True},\n",
              "     'study': {'href': 'https://www.ebi.ac.uk/gwas/rest/api/associations/17378098/study'},\n",
              "     'backgroundEfoTraits': {'href': 'https://www.ebi.ac.uk/gwas/rest/api/associations/17378098/backgroundEfoTraits'},\n",
              "     'snps': {'href': 'https://www.ebi.ac.uk/gwas/rest/api/associations/17378098/snps'},\n",
              "     'efoTraits': {'href': 'https://www.ebi.ac.uk/gwas/rest/api/associations/17378098/efoTraits'}}},\n",
              "   {'riskFrequency': 'NR',\n",
              "    'pvalueDescription': '(subset analysis)',\n",
              "    'pvalueMantissa': 5,\n",
              "    'pvalueExponent': -6,\n",
              "    'multiSnpHaplotype': False,\n",
              "    'snpInteraction': False,\n",
              "    'snpType': 'novel',\n",
              "    'standardError': None,\n",
              "    'range': None,\n",
              "    'description': None,\n",
              "    'orPerCopyNum': None,\n",
              "    'betaNum': None,\n",
              "    'betaUnit': None,\n",
              "    'betaDirection': None,\n",
              "    'loci': [{'haplotypeSnpCount': None,\n",
              "      'description': 'Single variant',\n",
              "      'strongestRiskAlleles': [{'riskAlleleName': 'rs1011970-T',\n",
              "        'riskFrequency': 'NR',\n",
              "        'genomeWide': False,\n",
              "        'limitedList': False,\n",
              "        '_links': {'proxySnps': {'href': 'https://www.ebi.ac.uk/gwas/rest/api/singleNucleotidePolymorphisms/NR{?projection}',\n",
              "          'templated': True},\n",
              "         'snp': {'href': 'https://www.ebi.ac.uk/gwas/rest/api/singleNucleotidePolymorphisms/rs1011970{?projection}',\n",
              "          'templated': True}}}],\n",
              "      'authorReportedGenes': [{'geneName': 'CDKN2B',\n",
              "        'entrezGeneIds': [{'entrezGeneId': '1030'}],\n",
              "        'ensemblGeneIds': [{'ensemblGeneId': 'ENSG00000147883'}]},\n",
              "       {'geneName': 'AS1', 'entrezGeneIds': [], 'ensemblGeneIds': []}],\n",
              "      '_links': {'association': {'href': 'https://www.ebi.ac.uk/gwas/rest/api/associations/17378226{?projection}',\n",
              "        'templated': True}}}],\n",
              "    'lastMappingDate': '2024-02-17T01:28:43.000+0000',\n",
              "    'lastUpdateDate': '2024-02-17T01:28:43.000+0000',\n",
              "    'pvalue': 4.9999999999999996e-06,\n",
              "    '_links': {'self': {'href': 'https://www.ebi.ac.uk/gwas/rest/api/associations/17378226'},\n",
              "     'association': {'href': 'https://www.ebi.ac.uk/gwas/rest/api/associations/17378226{?projection}',\n",
              "      'templated': True},\n",
              "     'study': {'href': 'https://www.ebi.ac.uk/gwas/rest/api/associations/17378226/study'},\n",
              "     'backgroundEfoTraits': {'href': 'https://www.ebi.ac.uk/gwas/rest/api/associations/17378226/backgroundEfoTraits'},\n",
              "     'snps': {'href': 'https://www.ebi.ac.uk/gwas/rest/api/associations/17378226/snps'},\n",
              "     'efoTraits': {'href': 'https://www.ebi.ac.uk/gwas/rest/api/associations/17378226/efoTraits'}}},\n",
              "   {'riskFrequency': 'NR',\n",
              "    'pvalueDescription': '(subset analysis)',\n",
              "    'pvalueMantissa': 8,\n",
              "    'pvalueExponent': -35,\n",
              "    'multiSnpHaplotype': False,\n",
              "    'snpInteraction': False,\n",
              "    'snpType': 'novel',\n",
              "    'standardError': None,\n",
              "    'range': None,\n",
              "    'description': None,\n",
              "    'orPerCopyNum': None,\n",
              "    'betaNum': None,\n",
              "    'betaUnit': None,\n",
              "    'betaDirection': None,\n",
              "    'loci': [{'haplotypeSnpCount': None,\n",
              "      'description': 'Single variant',\n",
              "      'strongestRiskAlleles': [{'riskAlleleName': 'rs11200014-A',\n",
              "        'riskFrequency': 'NR',\n",
              "        'genomeWide': False,\n",
              "        'limitedList': False,\n",
              "        '_links': {'proxySnps': {'href': 'https://www.ebi.ac.uk/gwas/rest/api/singleNucleotidePolymorphisms/NR{?projection}',\n",
              "          'templated': True},\n",
              "         'snp': {'href': 'https://www.ebi.ac.uk/gwas/rest/api/singleNucleotidePolymorphisms/rs11200014{?projection}',\n",
              "          'templated': True}}}],\n",
              "      'authorReportedGenes': [{'geneName': 'FGFR2',\n",
              "        'entrezGeneIds': [{'entrezGeneId': '2263'}],\n",
              "        'ensemblGeneIds': [{'ensemblGeneId': 'ENSG00000066468'}]}],\n",
              "      '_links': {'association': {'href': 'https://www.ebi.ac.uk/gwas/rest/api/associations/17378249{?projection}',\n",
              "        'templated': True}}}],\n",
              "    'lastMappingDate': '2024-02-17T01:28:47.000+0000',\n",
              "    'lastUpdateDate': '2024-02-17T01:28:47.000+0000',\n",
              "    'pvalue': 8e-35,\n",
              "    '_links': {'self': {'href': 'https://www.ebi.ac.uk/gwas/rest/api/associations/17378249'},\n",
              "     'association': {'href': 'https://www.ebi.ac.uk/gwas/rest/api/associations/17378249{?projection}',\n",
              "      'templated': True},\n",
              "     'study': {'href': 'https://www.ebi.ac.uk/gwas/rest/api/associations/17378249/study'},\n",
              "     'backgroundEfoTraits': {'href': 'https://www.ebi.ac.uk/gwas/rest/api/associations/17378249/backgroundEfoTraits'},\n",
              "     'snps': {'href': 'https://www.ebi.ac.uk/gwas/rest/api/associations/17378249/snps'},\n",
              "     'efoTraits': {'href': 'https://www.ebi.ac.uk/gwas/rest/api/associations/17378249/efoTraits'}}},\n",
              "   {'riskFrequency': 'NR',\n",
              "    'pvalueDescription': '(subset analysis)',\n",
              "    'pvalueMantissa': 4,\n",
              "    'pvalueExponent': -14,\n",
              "    'multiSnpHaplotype': False,\n",
              "    'snpInteraction': False,\n",
              "    'snpType': 'novel',\n",
              "    'standardError': None,\n",
              "    'range': None,\n",
              "    'description': None,\n",
              "    'orPerCopyNum': None,\n",
              "    'betaNum': None,\n",
              "    'betaUnit': None,\n",
              "    'betaDirection': None,\n",
              "    'loci': [{'haplotypeSnpCount': None,\n",
              "      'description': 'Single variant',\n",
              "      'strongestRiskAlleles': [{'riskAlleleName': 'rs7931342-G',\n",
              "        'riskFrequency': 'NR',\n",
              "        'genomeWide': False,\n",
              "        'limitedList': False,\n",
              "        '_links': {'proxySnps': {'href': 'https://www.ebi.ac.uk/gwas/rest/api/singleNucleotidePolymorphisms/NR{?projection}',\n",
              "          'templated': True},\n",
              "         'snp': {'href': 'https://www.ebi.ac.uk/gwas/rest/api/singleNucleotidePolymorphisms/rs7931342{?projection}',\n",
              "          'templated': True}}}],\n",
              "      'authorReportedGenes': [{'geneName': 'Intergenic',\n",
              "        'entrezGeneIds': [],\n",
              "        'ensemblGeneIds': []}],\n",
              "      '_links': {'association': {'href': 'https://www.ebi.ac.uk/gwas/rest/api/associations/17378262{?projection}',\n",
              "        'templated': True}}}],\n",
              "    'lastMappingDate': '2024-02-17T01:28:49.000+0000',\n",
              "    'lastUpdateDate': '2024-02-17T01:28:49.000+0000',\n",
              "    'pvalue': 4e-14,\n",
              "    '_links': {'self': {'href': 'https://www.ebi.ac.uk/gwas/rest/api/associations/17378262'},\n",
              "     'association': {'href': 'https://www.ebi.ac.uk/gwas/rest/api/associations/17378262{?projection}',\n",
              "      'templated': True},\n",
              "     'study': {'href': 'https://www.ebi.ac.uk/gwas/rest/api/associations/17378262/study'},\n",
              "     'backgroundEfoTraits': {'href': 'https://www.ebi.ac.uk/gwas/rest/api/associations/17378262/backgroundEfoTraits'},\n",
              "     'snps': {'href': 'https://www.ebi.ac.uk/gwas/rest/api/associations/17378262/snps'},\n",
              "     'efoTraits': {'href': 'https://www.ebi.ac.uk/gwas/rest/api/associations/17378262/efoTraits'}}},\n",
              "   {'riskFrequency': 'NR',\n",
              "    'pvalueDescription': '(subset analysis)',\n",
              "    'pvalueMantissa': 3,\n",
              "    'pvalueExponent': -8,\n",
              "    'multiSnpHaplotype': False,\n",
              "    'snpInteraction': False,\n",
              "    'snpType': 'novel',\n",
              "    'standardError': None,\n",
              "    'range': None,\n",
              "    'description': None,\n",
              "    'orPerCopyNum': None,\n",
              "    'betaNum': None,\n",
              "    'betaUnit': None,\n",
              "    'betaDirection': None,\n",
              "    'loci': [{'haplotypeSnpCount': None,\n",
              "      'description': 'Single variant',\n",
              "      'strongestRiskAlleles': [{'riskAlleleName': 'rs148883465-G',\n",
              "        'riskFrequency': 'NR',\n",
              "        'genomeWide': False,\n",
              "        'limitedList': False,\n",
              "        '_links': {'proxySnps': {'href': 'https://www.ebi.ac.uk/gwas/rest/api/singleNucleotidePolymorphisms/NR{?projection}',\n",
              "          'templated': True},\n",
              "         'snp': {'href': 'https://www.ebi.ac.uk/gwas/rest/api/singleNucleotidePolymorphisms/rs148883465{?projection}',\n",
              "          'templated': True}}}],\n",
              "      'authorReportedGenes': [{'geneName': 'Intergenic',\n",
              "        'entrezGeneIds': [],\n",
              "        'ensemblGeneIds': []}],\n",
              "      '_links': {'association': {'href': 'https://www.ebi.ac.uk/gwas/rest/api/associations/17378292{?projection}',\n",
              "        'templated': True}}}],\n",
              "    'lastMappingDate': '2024-02-17T01:28:52.000+0000',\n",
              "    'lastUpdateDate': '2024-02-17T01:28:52.000+0000',\n",
              "    'pvalue': 3.0000000000000004e-08,\n",
              "    '_links': {'self': {'href': 'https://www.ebi.ac.uk/gwas/rest/api/associations/17378292'},\n",
              "     'association': {'href': 'https://www.ebi.ac.uk/gwas/rest/api/associations/17378292{?projection}',\n",
              "      'templated': True},\n",
              "     'study': {'href': 'https://www.ebi.ac.uk/gwas/rest/api/associations/17378292/study'},\n",
              "     'backgroundEfoTraits': {'href': 'https://www.ebi.ac.uk/gwas/rest/api/associations/17378292/backgroundEfoTraits'},\n",
              "     'snps': {'href': 'https://www.ebi.ac.uk/gwas/rest/api/associations/17378292/snps'},\n",
              "     'efoTraits': {'href': 'https://www.ebi.ac.uk/gwas/rest/api/associations/17378292/efoTraits'}}},\n",
              "   {'riskFrequency': 'NR',\n",
              "    'pvalueDescription': '(subset analysis)',\n",
              "    'pvalueMantissa': 9,\n",
              "    'pvalueExponent': -7,\n",
              "    'multiSnpHaplotype': False,\n",
              "    'snpInteraction': False,\n",
              "    'snpType': 'novel',\n",
              "    'standardError': None,\n",
              "    'range': None,\n",
              "    'description': None,\n",
              "    'orPerCopyNum': None,\n",
              "    'betaNum': None,\n",
              "    'betaUnit': None,\n",
              "    'betaDirection': None,\n",
              "    'loci': [{'haplotypeSnpCount': None,\n",
              "      'description': 'Single variant',\n",
              "      'strongestRiskAlleles': [{'riskAlleleName': 'rs11168936-C',\n",
              "        'riskFrequency': 'NR',\n",
              "        'genomeWide': False,\n",
              "        'limitedList': False,\n",
              "        '_links': {'proxySnps': {'href': 'https://www.ebi.ac.uk/gwas/rest/api/singleNucleotidePolymorphisms/NR{?projection}',\n",
              "          'templated': True},\n",
              "         'snp': {'href': 'https://www.ebi.ac.uk/gwas/rest/api/singleNucleotidePolymorphisms/rs11168936{?projection}',\n",
              "          'templated': True}}}],\n",
              "      'authorReportedGenes': [{'geneName': 'TUBA1C',\n",
              "        'entrezGeneIds': [{'entrezGeneId': '84790'}],\n",
              "        'ensemblGeneIds': [{'ensemblGeneId': 'ENSG00000167553'}]}],\n",
              "      '_links': {'association': {'href': 'https://www.ebi.ac.uk/gwas/rest/api/associations/17378308{?projection}',\n",
              "        'templated': True}}}],\n",
              "    'lastMappingDate': '2024-02-17T01:28:54.000+0000',\n",
              "    'lastUpdateDate': '2024-02-17T01:28:54.000+0000',\n",
              "    'pvalue': 9e-07,\n",
              "    '_links': {'self': {'href': 'https://www.ebi.ac.uk/gwas/rest/api/associations/17378308'},\n",
              "     'association': {'href': 'https://www.ebi.ac.uk/gwas/rest/api/associations/17378308{?projection}',\n",
              "      'templated': True},\n",
              "     'study': {'href': 'https://www.ebi.ac.uk/gwas/rest/api/associations/17378308/study'},\n",
              "     'backgroundEfoTraits': {'href': 'https://www.ebi.ac.uk/gwas/rest/api/associations/17378308/backgroundEfoTraits'},\n",
              "     'snps': {'href': 'https://www.ebi.ac.uk/gwas/rest/api/associations/17378308/snps'},\n",
              "     'efoTraits': {'href': 'https://www.ebi.ac.uk/gwas/rest/api/associations/17378308/efoTraits'}}},\n",
              "   {'riskFrequency': 'NR',\n",
              "    'pvalueDescription': '(subset analysis)',\n",
              "    'pvalueMantissa': 2,\n",
              "    'pvalueExponent': -15,\n",
              "    'multiSnpHaplotype': False,\n",
              "    'snpInteraction': False,\n",
              "    'snpType': 'novel',\n",
              "    'standardError': None,\n",
              "    'range': None,\n",
              "    'description': None,\n",
              "    'orPerCopyNum': None,\n",
              "    'betaNum': None,\n",
              "    'betaUnit': None,\n",
              "    'betaDirection': None,\n",
              "    'loci': [{'haplotypeSnpCount': None,\n",
              "      'description': 'Single variant',\n",
              "      'strongestRiskAlleles': [{'riskAlleleName': 'rs73110464-T',\n",
              "        'riskFrequency': 'NR',\n",
              "        'genomeWide': False,\n",
              "        'limitedList': False,\n",
              "        '_links': {'proxySnps': {'href': 'https://www.ebi.ac.uk/gwas/rest/api/singleNucleotidePolymorphisms/NR{?projection}',\n",
              "          'templated': True},\n",
              "         'snp': {'href': 'https://www.ebi.ac.uk/gwas/rest/api/singleNucleotidePolymorphisms/rs73110464{?projection}',\n",
              "          'templated': True}}}],\n",
              "      'authorReportedGenes': [{'geneName': 'KRT8',\n",
              "        'entrezGeneIds': [{'entrezGeneId': '3856'}],\n",
              "        'ensemblGeneIds': [{'ensemblGeneId': 'ENSG00000170421'}]}],\n",
              "      '_links': {'association': {'href': 'https://www.ebi.ac.uk/gwas/rest/api/associations/17378333{?projection}',\n",
              "        'templated': True}}}],\n",
              "    'lastMappingDate': '2024-02-17T01:28:58.000+0000',\n",
              "    'lastUpdateDate': '2024-02-17T01:28:58.000+0000',\n",
              "    'pvalue': 2e-15,\n",
              "    '_links': {'self': {'href': 'https://www.ebi.ac.uk/gwas/rest/api/associations/17378333'},\n",
              "     'association': {'href': 'https://www.ebi.ac.uk/gwas/rest/api/associations/17378333{?projection}',\n",
              "      'templated': True},\n",
              "     'study': {'href': 'https://www.ebi.ac.uk/gwas/rest/api/associations/17378333/study'},\n",
              "     'backgroundEfoTraits': {'href': 'https://www.ebi.ac.uk/gwas/rest/api/associations/17378333/backgroundEfoTraits'},\n",
              "     'snps': {'href': 'https://www.ebi.ac.uk/gwas/rest/api/associations/17378333/snps'},\n",
              "     'efoTraits': {'href': 'https://www.ebi.ac.uk/gwas/rest/api/associations/17378333/efoTraits'}}},\n",
              "   {'riskFrequency': 'NR',\n",
              "    'pvalueDescription': '(subset analysis)',\n",
              "    'pvalueMantissa': 1,\n",
              "    'pvalueExponent': -6,\n",
              "    'multiSnpHaplotype': False,\n",
              "    'snpInteraction': False,\n",
              "    'snpType': 'novel',\n",
              "    'standardError': None,\n",
              "    'range': None,\n",
              "    'description': None,\n",
              "    'orPerCopyNum': None,\n",
              "    'betaNum': None,\n",
              "    'betaUnit': None,\n",
              "    'betaDirection': None,\n",
              "    'loci': [{'haplotypeSnpCount': None,\n",
              "      'description': 'Single variant',\n",
              "      'strongestRiskAlleles': [{'riskAlleleName': 'rs3184504-C',\n",
              "        'riskFrequency': 'NR',\n",
              "        'genomeWide': False,\n",
              "        'limitedList': False,\n",
              "        '_links': {'proxySnps': {'href': 'https://www.ebi.ac.uk/gwas/rest/api/singleNucleotidePolymorphisms/NR{?projection}',\n",
              "          'templated': True},\n",
              "         'snp': {'href': 'https://www.ebi.ac.uk/gwas/rest/api/singleNucleotidePolymorphisms/rs3184504{?projection}',\n",
              "          'templated': True}}}],\n",
              "      'authorReportedGenes': [{'geneName': 'SH2B3',\n",
              "        'entrezGeneIds': [{'entrezGeneId': '10019'}],\n",
              "        'ensemblGeneIds': [{'ensemblGeneId': 'ENSG00000111252'}]}],\n",
              "      '_links': {'association': {'href': 'https://www.ebi.ac.uk/gwas/rest/api/associations/17378355{?projection}',\n",
              "        'templated': True}}}],\n",
              "    'lastMappingDate': '2024-05-23T20:54:24.000+0000',\n",
              "    'lastUpdateDate': '2024-05-23T20:54:24.000+0000',\n",
              "    'pvalue': 1e-06,\n",
              "    '_links': {'self': {'href': 'https://www.ebi.ac.uk/gwas/rest/api/associations/17378355'},\n",
              "     'association': {'href': 'https://www.ebi.ac.uk/gwas/rest/api/associations/17378355{?projection}',\n",
              "      'templated': True},\n",
              "     'study': {'href': 'https://www.ebi.ac.uk/gwas/rest/api/associations/17378355/study'},\n",
              "     'backgroundEfoTraits': {'href': 'https://www.ebi.ac.uk/gwas/rest/api/associations/17378355/backgroundEfoTraits'},\n",
              "     'snps': {'href': 'https://www.ebi.ac.uk/gwas/rest/api/associations/17378355/snps'},\n",
              "     'efoTraits': {'href': 'https://www.ebi.ac.uk/gwas/rest/api/associations/17378355/efoTraits'}}},\n",
              "   {'riskFrequency': 'NR',\n",
              "    'pvalueDescription': '(subset analysis)',\n",
              "    'pvalueMantissa': 5,\n",
              "    'pvalueExponent': -10,\n",
              "    'multiSnpHaplotype': False,\n",
              "    'snpInteraction': False,\n",
              "    'snpType': 'novel',\n",
              "    'standardError': None,\n",
              "    'range': None,\n",
              "    'description': None,\n",
              "    'orPerCopyNum': None,\n",
              "    'betaNum': None,\n",
              "    'betaUnit': None,\n",
              "    'betaDirection': None,\n",
              "    'loci': [{'haplotypeSnpCount': None,\n",
              "      'description': 'Single variant',\n",
              "      'strongestRiskAlleles': [{'riskAlleleName': 'rs11571818-C',\n",
              "        'riskFrequency': 'NR',\n",
              "        'genomeWide': False,\n",
              "        'limitedList': False,\n",
              "        '_links': {'proxySnps': {'href': 'https://www.ebi.ac.uk/gwas/rest/api/singleNucleotidePolymorphisms/NR{?projection}',\n",
              "          'templated': True},\n",
              "         'snp': {'href': 'https://www.ebi.ac.uk/gwas/rest/api/singleNucleotidePolymorphisms/rs11571818{?projection}',\n",
              "          'templated': True}}}],\n",
              "      'authorReportedGenes': [{'geneName': 'BRCA2',\n",
              "        'entrezGeneIds': [{'entrezGeneId': '675'}],\n",
              "        'ensemblGeneIds': [{'ensemblGeneId': 'ENSG00000139618'}]}],\n",
              "      '_links': {'association': {'href': 'https://www.ebi.ac.uk/gwas/rest/api/associations/17378375{?projection}',\n",
              "        'templated': True}}}],\n",
              "    'lastMappingDate': '2024-02-17T01:29:02.000+0000',\n",
              "    'lastUpdateDate': '2024-02-17T01:29:02.000+0000',\n",
              "    'pvalue': 5e-10,\n",
              "    '_links': {'self': {'href': 'https://www.ebi.ac.uk/gwas/rest/api/associations/17378375'},\n",
              "     'association': {'href': 'https://www.ebi.ac.uk/gwas/rest/api/associations/17378375{?projection}',\n",
              "      'templated': True},\n",
              "     'study': {'href': 'https://www.ebi.ac.uk/gwas/rest/api/associations/17378375/study'},\n",
              "     'backgroundEfoTraits': {'href': 'https://www.ebi.ac.uk/gwas/rest/api/associations/17378375/backgroundEfoTraits'},\n",
              "     'snps': {'href': 'https://www.ebi.ac.uk/gwas/rest/api/associations/17378375/snps'},\n",
              "     'efoTraits': {'href': 'https://www.ebi.ac.uk/gwas/rest/api/associations/17378375/efoTraits'}}},\n",
              "   {'riskFrequency': 'NR',\n",
              "    'pvalueDescription': '(subset analysis)',\n",
              "    'pvalueMantissa': 3,\n",
              "    'pvalueExponent': -10,\n",
              "    'multiSnpHaplotype': False,\n",
              "    'snpInteraction': False,\n",
              "    'snpType': 'novel',\n",
              "    'standardError': None,\n",
              "    'range': None,\n",
              "    'description': None,\n",
              "    'orPerCopyNum': None,\n",
              "    'betaNum': None,\n",
              "    'betaUnit': None,\n",
              "    'betaDirection': None,\n",
              "    'loci': [{'haplotypeSnpCount': None,\n",
              "      'description': 'Single variant',\n",
              "      'strongestRiskAlleles': [{'riskAlleleName': 'rs11844632-A',\n",
              "        'riskFrequency': 'NR',\n",
              "        'genomeWide': False,\n",
              "        'limitedList': False,\n",
              "        '_links': {'proxySnps': {'href': 'https://www.ebi.ac.uk/gwas/rest/api/singleNucleotidePolymorphisms/NR{?projection}',\n",
              "          'templated': True},\n",
              "         'snp': {'href': 'https://www.ebi.ac.uk/gwas/rest/api/singleNucleotidePolymorphisms/rs11844632{?projection}',\n",
              "          'templated': True}}}],\n",
              "      'authorReportedGenes': [{'geneName': 'RAD51B',\n",
              "        'entrezGeneIds': [{'entrezGeneId': '5890'}],\n",
              "        'ensemblGeneIds': [{'ensemblGeneId': 'ENSG00000182185'}]}],\n",
              "      '_links': {'association': {'href': 'https://www.ebi.ac.uk/gwas/rest/api/associations/17378398{?projection}',\n",
              "        'templated': True}}}],\n",
              "    'lastMappingDate': '2024-02-17T01:29:06.000+0000',\n",
              "    'lastUpdateDate': '2024-02-17T01:29:06.000+0000',\n",
              "    'pvalue': 3e-10,\n",
              "    '_links': {'self': {'href': 'https://www.ebi.ac.uk/gwas/rest/api/associations/17378398'},\n",
              "     'association': {'href': 'https://www.ebi.ac.uk/gwas/rest/api/associations/17378398{?projection}',\n",
              "      'templated': True},\n",
              "     'study': {'href': 'https://www.ebi.ac.uk/gwas/rest/api/associations/17378398/study'},\n",
              "     'backgroundEfoTraits': {'href': 'https://www.ebi.ac.uk/gwas/rest/api/associations/17378398/backgroundEfoTraits'},\n",
              "     'snps': {'href': 'https://www.ebi.ac.uk/gwas/rest/api/associations/17378398/snps'},\n",
              "     'efoTraits': {'href': 'https://www.ebi.ac.uk/gwas/rest/api/associations/17378398/efoTraits'}}},\n",
              "   {'riskFrequency': 'NR',\n",
              "    'pvalueDescription': '(subset analysis)',\n",
              "    'pvalueMantissa': 7,\n",
              "    'pvalueExponent': -28,\n",
              "    'multiSnpHaplotype': False,\n",
              "    'snpInteraction': False,\n",
              "    'snpType': 'novel',\n",
              "    'standardError': None,\n",
              "    'range': None,\n",
              "    'description': None,\n",
              "    'orPerCopyNum': None,\n",
              "    'betaNum': None,\n",
              "    'betaUnit': None,\n",
              "    'betaDirection': None,\n",
              "    'loci': [{'haplotypeSnpCount': None,\n",
              "      'description': 'Single variant',\n",
              "      'strongestRiskAlleles': [{'riskAlleleName': 'rs12601991-T',\n",
              "        'riskFrequency': 'NR',\n",
              "        'genomeWide': False,\n",
              "        'limitedList': False,\n",
              "        '_links': {'proxySnps': {'href': 'https://www.ebi.ac.uk/gwas/rest/api/singleNucleotidePolymorphisms/NR{?projection}',\n",
              "          'templated': True},\n",
              "         'snp': {'href': 'https://www.ebi.ac.uk/gwas/rest/api/singleNucleotidePolymorphisms/rs12601991{?projection}',\n",
              "          'templated': True}}}],\n",
              "      'authorReportedGenes': [{'geneName': 'HNF1B',\n",
              "        'entrezGeneIds': [{'entrezGeneId': '6928'}],\n",
              "        'ensemblGeneIds': [{'ensemblGeneId': 'ENSG00000275410'}]}],\n",
              "      '_links': {'association': {'href': 'https://www.ebi.ac.uk/gwas/rest/api/associations/17378412{?projection}',\n",
              "        'templated': True}}}],\n",
              "    'lastMappingDate': '2024-02-17T01:29:08.000+0000',\n",
              "    'lastUpdateDate': '2024-02-17T01:29:08.000+0000',\n",
              "    'pvalue': 7e-28,\n",
              "    '_links': {'self': {'href': 'https://www.ebi.ac.uk/gwas/rest/api/associations/17378412'},\n",
              "     'association': {'href': 'https://www.ebi.ac.uk/gwas/rest/api/associations/17378412{?projection}',\n",
              "      'templated': True},\n",
              "     'study': {'href': 'https://www.ebi.ac.uk/gwas/rest/api/associations/17378412/study'},\n",
              "     'backgroundEfoTraits': {'href': 'https://www.ebi.ac.uk/gwas/rest/api/associations/17378412/backgroundEfoTraits'},\n",
              "     'snps': {'href': 'https://www.ebi.ac.uk/gwas/rest/api/associations/17378412/snps'},\n",
              "     'efoTraits': {'href': 'https://www.ebi.ac.uk/gwas/rest/api/associations/17378412/efoTraits'}}},\n",
              "   {'riskFrequency': 'NR',\n",
              "    'pvalueDescription': '(subset analysis)',\n",
              "    'pvalueMantissa': 2,\n",
              "    'pvalueExponent': -9,\n",
              "    'multiSnpHaplotype': False,\n",
              "    'snpInteraction': False,\n",
              "    'snpType': 'novel',\n",
              "    'standardError': None,\n",
              "    'range': None,\n",
              "    'description': None,\n",
              "    'orPerCopyNum': None,\n",
              "    'betaNum': None,\n",
              "    'betaUnit': None,\n",
              "    'betaDirection': None,\n",
              "    'loci': [{'haplotypeSnpCount': None,\n",
              "      'description': 'Single variant',\n",
              "      'strongestRiskAlleles': [{'riskAlleleName': 'rs4808075-C',\n",
              "        'riskFrequency': 'NR',\n",
              "        'genomeWide': False,\n",
              "        'limitedList': False,\n",
              "        '_links': {'proxySnps': {'href': 'https://www.ebi.ac.uk/gwas/rest/api/singleNucleotidePolymorphisms/NR{?projection}',\n",
              "          'templated': True},\n",
              "         'snp': {'href': 'https://www.ebi.ac.uk/gwas/rest/api/singleNucleotidePolymorphisms/rs4808075{?projection}',\n",
              "          'templated': True}}}],\n",
              "      'authorReportedGenes': [{'geneName': 'BABAM1',\n",
              "        'entrezGeneIds': [{'entrezGeneId': '29086'}],\n",
              "        'ensemblGeneIds': [{'ensemblGeneId': 'ENSG00000105393'}]}],\n",
              "      '_links': {'association': {'href': 'https://www.ebi.ac.uk/gwas/rest/api/associations/17378444{?projection}',\n",
              "        'templated': True}}}],\n",
              "    'lastMappingDate': '2024-03-22T12:35:13.000+0000',\n",
              "    'lastUpdateDate': '2024-03-22T12:35:13.000+0000',\n",
              "    'pvalue': 2e-09,\n",
              "    '_links': {'self': {'href': 'https://www.ebi.ac.uk/gwas/rest/api/associations/17378444'},\n",
              "     'association': {'href': 'https://www.ebi.ac.uk/gwas/rest/api/associations/17378444{?projection}',\n",
              "      'templated': True},\n",
              "     'study': {'href': 'https://www.ebi.ac.uk/gwas/rest/api/associations/17378444/study'},\n",
              "     'backgroundEfoTraits': {'href': 'https://www.ebi.ac.uk/gwas/rest/api/associations/17378444/backgroundEfoTraits'},\n",
              "     'snps': {'href': 'https://www.ebi.ac.uk/gwas/rest/api/associations/17378444/snps'},\n",
              "     'efoTraits': {'href': 'https://www.ebi.ac.uk/gwas/rest/api/associations/17378444/efoTraits'}}},\n",
              "   {'riskFrequency': 'NR',\n",
              "    'pvalueDescription': '(subset analysis)',\n",
              "    'pvalueMantissa': 3,\n",
              "    'pvalueExponent': -6,\n",
              "    'multiSnpHaplotype': False,\n",
              "    'snpInteraction': False,\n",
              "    'snpType': 'novel',\n",
              "    'standardError': None,\n",
              "    'range': None,\n",
              "    'description': None,\n",
              "    'orPerCopyNum': None,\n",
              "    'betaNum': None,\n",
              "    'betaUnit': None,\n",
              "    'betaDirection': None,\n",
              "    'loci': [{'haplotypeSnpCount': None,\n",
              "      'description': 'Single variant',\n",
              "      'strongestRiskAlleles': [{'riskAlleleName': 'rs11907546-T',\n",
              "        'riskFrequency': 'NR',\n",
              "        'genomeWide': False,\n",
              "        'limitedList': False,\n",
              "        '_links': {'proxySnps': {'href': 'https://www.ebi.ac.uk/gwas/rest/api/singleNucleotidePolymorphisms/NR{?projection}',\n",
              "          'templated': True},\n",
              "         'snp': {'href': 'https://www.ebi.ac.uk/gwas/rest/api/singleNucleotidePolymorphisms/rs11907546{?projection}',\n",
              "          'templated': True}}}],\n",
              "      'authorReportedGenes': [{'geneName': 'Intergenic',\n",
              "        'entrezGeneIds': [],\n",
              "        'ensemblGeneIds': []}],\n",
              "      '_links': {'association': {'href': 'https://www.ebi.ac.uk/gwas/rest/api/associations/17378483{?projection}',\n",
              "        'templated': True}}}],\n",
              "    'lastMappingDate': '2024-02-17T01:29:13.000+0000',\n",
              "    'lastUpdateDate': '2024-02-17T01:29:13.000+0000',\n",
              "    'pvalue': 3e-06,\n",
              "    '_links': {'self': {'href': 'https://www.ebi.ac.uk/gwas/rest/api/associations/17378483'},\n",
              "     'association': {'href': 'https://www.ebi.ac.uk/gwas/rest/api/associations/17378483{?projection}',\n",
              "      'templated': True},\n",
              "     'study': {'href': 'https://www.ebi.ac.uk/gwas/rest/api/associations/17378483/study'},\n",
              "     'backgroundEfoTraits': {'href': 'https://www.ebi.ac.uk/gwas/rest/api/associations/17378483/backgroundEfoTraits'},\n",
              "     'snps': {'href': 'https://www.ebi.ac.uk/gwas/rest/api/associations/17378483/snps'},\n",
              "     'efoTraits': {'href': 'https://www.ebi.ac.uk/gwas/rest/api/associations/17378483/efoTraits'}}},\n",
              "   {'riskFrequency': 'NR',\n",
              "    'pvalueDescription': '(subset analysis)',\n",
              "    'pvalueMantissa': 1,\n",
              "    'pvalueExponent': -7,\n",
              "    'multiSnpHaplotype': False,\n",
              "    'snpInteraction': False,\n",
              "    'snpType': 'novel',\n",
              "    'standardError': None,\n",
              "    'range': None,\n",
              "    'description': None,\n",
              "    'orPerCopyNum': None,\n",
              "    'betaNum': None,\n",
              "    'betaUnit': None,\n",
              "    'betaDirection': None,\n",
              "    'loci': [{'haplotypeSnpCount': None,\n",
              "      'description': 'Single variant',\n",
              "      'strongestRiskAlleles': [{'riskAlleleName': 'rs141752671-G',\n",
              "        'riskFrequency': 'NR',\n",
              "        'genomeWide': False,\n",
              "        'limitedList': False,\n",
              "        '_links': {'proxySnps': {'href': 'https://www.ebi.ac.uk/gwas/rest/api/singleNucleotidePolymorphisms/NR{?projection}',\n",
              "          'templated': True},\n",
              "         'snp': {'href': 'https://www.ebi.ac.uk/gwas/rest/api/singleNucleotidePolymorphisms/rs141752671{?projection}',\n",
              "          'templated': True}}}],\n",
              "      'authorReportedGenes': [{'geneName': 'Intergenic',\n",
              "        'entrezGeneIds': [],\n",
              "        'ensemblGeneIds': []}],\n",
              "      '_links': {'association': {'href': 'https://www.ebi.ac.uk/gwas/rest/api/associations/17378503{?projection}',\n",
              "        'templated': True}}}],\n",
              "    'lastMappingDate': '2024-02-17T01:28:34.000+0000',\n",
              "    'lastUpdateDate': '2024-02-17T01:28:34.000+0000',\n",
              "    'pvalue': 1e-07,\n",
              "    '_links': {'self': {'href': 'https://www.ebi.ac.uk/gwas/rest/api/associations/17378503'},\n",
              "     'association': {'href': 'https://www.ebi.ac.uk/gwas/rest/api/associations/17378503{?projection}',\n",
              "      'templated': True},\n",
              "     'study': {'href': 'https://www.ebi.ac.uk/gwas/rest/api/associations/17378503/study'},\n",
              "     'backgroundEfoTraits': {'href': 'https://www.ebi.ac.uk/gwas/rest/api/associations/17378503/backgroundEfoTraits'},\n",
              "     'snps': {'href': 'https://www.ebi.ac.uk/gwas/rest/api/associations/17378503/snps'},\n",
              "     'efoTraits': {'href': 'https://www.ebi.ac.uk/gwas/rest/api/associations/17378503/efoTraits'}}},\n",
              "   {'riskFrequency': 'NR',\n",
              "    'pvalueDescription': '(subset analysis)',\n",
              "    'pvalueMantissa': 5,\n",
              "    'pvalueExponent': -6,\n",
              "    'multiSnpHaplotype': False,\n",
              "    'snpInteraction': False,\n",
              "    'snpType': 'novel',\n",
              "    'standardError': None,\n",
              "    'range': None,\n",
              "    'description': None,\n",
              "    'orPerCopyNum': None,\n",
              "    'betaNum': None,\n",
              "    'betaUnit': None,\n",
              "    'betaDirection': None,\n",
              "    'loci': [{'haplotypeSnpCount': None,\n",
              "      'description': 'Single variant',\n",
              "      'strongestRiskAlleles': [{'riskAlleleName': 'rs11065979-T',\n",
              "        'riskFrequency': 'NR',\n",
              "        'genomeWide': False,\n",
              "        'limitedList': False,\n",
              "        '_links': {'proxySnps': {'href': 'https://www.ebi.ac.uk/gwas/rest/api/singleNucleotidePolymorphisms/NR{?projection}',\n",
              "          'templated': True},\n",
              "         'snp': {'href': 'https://www.ebi.ac.uk/gwas/rest/api/singleNucleotidePolymorphisms/rs11065979{?projection}',\n",
              "          'templated': True}}}],\n",
              "      'authorReportedGenes': [{'geneName': 'Intergenic',\n",
              "        'entrezGeneIds': [],\n",
              "        'ensemblGeneIds': []}],\n",
              "      '_links': {'association': {'href': 'https://www.ebi.ac.uk/gwas/rest/api/associations/17378516{?projection}',\n",
              "        'templated': True}}}],\n",
              "    'lastMappingDate': '2024-02-17T01:28:36.000+0000',\n",
              "    'lastUpdateDate': '2024-02-17T01:28:37.000+0000',\n",
              "    'pvalue': 4.9999999999999996e-06,\n",
              "    '_links': {'self': {'href': 'https://www.ebi.ac.uk/gwas/rest/api/associations/17378516'},\n",
              "     'association': {'href': 'https://www.ebi.ac.uk/gwas/rest/api/associations/17378516{?projection}',\n",
              "      'templated': True},\n",
              "     'study': {'href': 'https://www.ebi.ac.uk/gwas/rest/api/associations/17378516/study'},\n",
              "     'backgroundEfoTraits': {'href': 'https://www.ebi.ac.uk/gwas/rest/api/associations/17378516/backgroundEfoTraits'},\n",
              "     'snps': {'href': 'https://www.ebi.ac.uk/gwas/rest/api/associations/17378516/snps'},\n",
              "     'efoTraits': {'href': 'https://www.ebi.ac.uk/gwas/rest/api/associations/17378516/efoTraits'}}},\n",
              "   {'riskFrequency': 'NR',\n",
              "    'pvalueDescription': '(subset analysis)',\n",
              "    'pvalueMantissa': 6,\n",
              "    'pvalueExponent': -6,\n",
              "    'multiSnpHaplotype': False,\n",
              "    'snpInteraction': False,\n",
              "    'snpType': 'novel',\n",
              "    'standardError': None,\n",
              "    'range': None,\n",
              "    'description': None,\n",
              "    'orPerCopyNum': None,\n",
              "    'betaNum': None,\n",
              "    'betaUnit': None,\n",
              "    'betaDirection': None,\n",
              "    'loci': [{'haplotypeSnpCount': None,\n",
              "      'description': 'Single variant',\n",
              "      'strongestRiskAlleles': [{'riskAlleleName': 'rs2300206-C',\n",
              "        'riskFrequency': 'NR',\n",
              "        'genomeWide': False,\n",
              "        'limitedList': False,\n",
              "        '_links': {'proxySnps': {'href': 'https://www.ebi.ac.uk/gwas/rest/api/singleNucleotidePolymorphisms/NR{?projection}',\n",
              "          'templated': True},\n",
              "         'snp': {'href': 'https://www.ebi.ac.uk/gwas/rest/api/singleNucleotidePolymorphisms/rs2300206{?projection}',\n",
              "          'templated': True}}}],\n",
              "      'authorReportedGenes': [{'geneName': 'RALY',\n",
              "        'entrezGeneIds': [{'entrezGeneId': '22913'}],\n",
              "        'ensemblGeneIds': [{'ensemblGeneId': 'ENSG00000125970'}]}],\n",
              "      '_links': {'association': {'href': 'https://www.ebi.ac.uk/gwas/rest/api/associations/17378536{?projection}',\n",
              "        'templated': True}}}],\n",
              "    'lastMappingDate': '2024-02-17T01:28:40.000+0000',\n",
              "    'lastUpdateDate': '2024-02-17T01:28:40.000+0000',\n",
              "    'pvalue': 6e-06,\n",
              "    '_links': {'self': {'href': 'https://www.ebi.ac.uk/gwas/rest/api/associations/17378536'},\n",
              "     'association': {'href': 'https://www.ebi.ac.uk/gwas/rest/api/associations/17378536{?projection}',\n",
              "      'templated': True},\n",
              "     'study': {'href': 'https://www.ebi.ac.uk/gwas/rest/api/associations/17378536/study'},\n",
              "     'backgroundEfoTraits': {'href': 'https://www.ebi.ac.uk/gwas/rest/api/associations/17378536/backgroundEfoTraits'},\n",
              "     'snps': {'href': 'https://www.ebi.ac.uk/gwas/rest/api/associations/17378536/snps'},\n",
              "     'efoTraits': {'href': 'https://www.ebi.ac.uk/gwas/rest/api/associations/17378536/efoTraits'}}},\n",
              "   {'riskFrequency': 'NR',\n",
              "    'pvalueDescription': '(subset analysis)',\n",
              "    'pvalueMantissa': 4,\n",
              "    'pvalueExponent': -9,\n",
              "    'multiSnpHaplotype': False,\n",
              "    'snpInteraction': False,\n",
              "    'snpType': 'novel',\n",
              "    'standardError': None,\n",
              "    'range': None,\n",
              "    'description': None,\n",
              "    'orPerCopyNum': None,\n",
              "    'betaNum': None,\n",
              "    'betaUnit': None,\n",
              "    'betaDirection': None,\n",
              "    'loci': [{'haplotypeSnpCount': None,\n",
              "      'description': 'Single variant',\n",
              "      'strongestRiskAlleles': [{'riskAlleleName': 'rs56084662-A',\n",
              "        'riskFrequency': 'NR',\n",
              "        'genomeWide': False,\n",
              "        'limitedList': False,\n",
              "        '_links': {'proxySnps': {'href': 'https://www.ebi.ac.uk/gwas/rest/api/singleNucleotidePolymorphisms/NR{?projection}',\n",
              "          'templated': True},\n",
              "         'snp': {'href': 'https://www.ebi.ac.uk/gwas/rest/api/singleNucleotidePolymorphisms/rs56084662{?projection}',\n",
              "          'templated': True}}}],\n",
              "      'authorReportedGenes': [{'geneName': 'FRY',\n",
              "        'entrezGeneIds': [{'entrezGeneId': '10129'}],\n",
              "        'ensemblGeneIds': [{'ensemblGeneId': 'ENSG00000073910'}]}],\n",
              "      '_links': {'association': {'href': 'https://www.ebi.ac.uk/gwas/rest/api/associations/17378558{?projection}',\n",
              "        'templated': True}}}],\n",
              "    'lastMappingDate': '2024-02-17T01:28:42.000+0000',\n",
              "    'lastUpdateDate': '2024-02-17T01:28:42.000+0000',\n",
              "    'pvalue': 4e-09,\n",
              "    '_links': {'self': {'href': 'https://www.ebi.ac.uk/gwas/rest/api/associations/17378558'},\n",
              "     'association': {'href': 'https://www.ebi.ac.uk/gwas/rest/api/associations/17378558{?projection}',\n",
              "      'templated': True},\n",
              "     'study': {'href': 'https://www.ebi.ac.uk/gwas/rest/api/associations/17378558/study'},\n",
              "     'backgroundEfoTraits': {'href': 'https://www.ebi.ac.uk/gwas/rest/api/associations/17378558/backgroundEfoTraits'},\n",
              "     'snps': {'href': 'https://www.ebi.ac.uk/gwas/rest/api/associations/17378558/snps'},\n",
              "     'efoTraits': {'href': 'https://www.ebi.ac.uk/gwas/rest/api/associations/17378558/efoTraits'}}}]},\n",
              " '_links': {'self': {'href': 'https://www.ebi.ac.uk/gwas/rest/api/studies/GCST003588/associations'}}}"
            ]
          },
          "metadata": {},
          "execution_count": 100
        }
      ]
    },
    {
      "cell_type": "markdown",
      "source": [
        "**4.Make a Pandas dataframe containing 'riskAlleleName' and 'geneName'**\n",
        "* If you don't know how to do this, solution is in the 'geneIdsjson.py' file in the Github repository"
      ],
      "metadata": {
        "id": "du4GExjTy-yz"
      }
    },
    {
      "cell_type": "code",
      "source": [],
      "metadata": {
        "id": "mtc_simKy6Nk"
      },
      "execution_count": null,
      "outputs": []
    },
    {
      "cell_type": "markdown",
      "source": [
        "**5. To plot the gene expression of carcinoma GWAS genes, convert this to a list**\n",
        "* genes=[gene for gene in gwasgenes['geneName'].tolist() if gene !='Intergenic']"
      ],
      "metadata": {
        "id": "lozKTpdSz6Tn"
      }
    },
    {
      "cell_type": "markdown",
      "source": [
        "**6. Plot gene expression of Carcinoma GWAS genes per leiden cluster in a dot plot**\n",
        "* sc.pl.dotplot()\n"
      ],
      "metadata": {
        "id": "MCh-Dfq718yn"
      }
    },
    {
      "cell_type": "code",
      "source": [],
      "metadata": {
        "id": "TrhP35RwqsnS"
      },
      "execution_count": null,
      "outputs": []
    },
    {
      "cell_type": "markdown",
      "source": [
        "**7. Plot gene expression of the highly expressed carcinoma GWAS genes in a UMAP, compare this to a UMAP of Disease Stage**"
      ],
      "metadata": {
        "id": "Hv3G59UeH5GM"
      }
    },
    {
      "cell_type": "code",
      "source": [
        "sc.pl.umap(hu, color=['leiden','Disease_stage','TUBA1C','KRT8','HLA-C'])"
      ],
      "metadata": {
        "id": "azdqQivcBY_j"
      },
      "execution_count": null,
      "outputs": []
    },
    {
      "cell_type": "markdown",
      "source": [
        "## **6. Subsetting secretory epithelial cells**\n",
        "As HGOC is thought to originate from epithelial cells in the fallopian tube, we can examine epithelial cells in greater depth by creating a subset of the data of epithelial cells."
      ],
      "metadata": {
        "id": "uaB0j5q05qNI"
      }
    },
    {
      "cell_type": "markdown",
      "source": [
        "**1. Create new object of a subset of epithelial cell data**\n",
        "* subset = data[data.obs['Celltype'].isin([''])]"
      ],
      "metadata": {
        "id": "WKP_obNWR86O"
      }
    },
    {
      "cell_type": "code",
      "source": [],
      "metadata": {
        "id": "j1ah2IA383mJ"
      },
      "execution_count": null,
      "outputs": []
    },
    {
      "cell_type": "markdown",
      "source": [
        "**2. Run the dimensionality reduction and clustering analysis again to identify clusters of epitheilal cells**"
      ],
      "metadata": {
        "id": "NguB-e1U8MrS"
      }
    },
    {
      "cell_type": "code",
      "source": [],
      "metadata": {
        "id": "EtqGDyDyl_Vg"
      },
      "execution_count": null,
      "outputs": []
    }
  ]
}